{
 "cells": [
  {
   "cell_type": "markdown",
   "id": "1aaa87bb-15da-43b3-a2e1-55d9495f33e9",
   "metadata": {},
   "source": [
    "https://www.analyticsvidhya.com/blog/2020/06/introduction-anova-statistics-data-science-covid-python/"
   ]
  },
  {
   "cell_type": "markdown",
   "id": "f209fb3f-5107-4ff3-a627-9dcc5f3d04d7",
   "metadata": {},
   "source": [
    "# One-way ANOVA test"
   ]
  },
  {
   "cell_type": "code",
   "execution_count": 42,
   "id": "9d5c494c-83d6-4ec6-a5a6-c0276d08e95c",
   "metadata": {},
   "outputs": [],
   "source": [
    "import pandas as pd\n",
    "import numpy as np\n",
    "\n",
    "import scipy.stats as stats\n",
    "import os\n",
    "\n",
    "\n",
    "import statsmodels.api as sm\n",
    "import statsmodels.stats.multicomp\n",
    "\n",
    "from statsmodels.formula.api import ols\n",
    "from statsmodels.stats.anova import anova_lm\n",
    "from scipy import stats\n",
    "import matplotlib.pyplot as plt\n",
    "import seaborn as sns"
   ]
  },
  {
   "cell_type": "markdown",
   "id": "a6d508c9-9ac6-4c69-8034-91442da7f22f",
   "metadata": {},
   "source": [
    "# Start of ANOVA Testing"
   ]
  },
  {
   "cell_type": "markdown",
   "id": "0ac14326-5cbc-4703-a036-42776358f3c3",
   "metadata": {},
   "source": [
    "## ANOVA assumptions:\n",
    "- Randomly selected from the population\n",
    "- Normality\n",
    "- Homogeneity of variance (approximately equal)\n",
    "- Samples are independent of each other"
   ]
  },
  {
   "cell_type": "code",
   "execution_count": 43,
   "id": "ba1db916-a614-4ee6-8d53-68628aeff8a3",
   "metadata": {},
   "outputs": [],
   "source": [
    "dataNew = pd.read_csv('../DATA/covid_case_density_group.csv')"
   ]
  },
  {
   "cell_type": "code",
   "execution_count": 44,
   "id": "6a9a8d50-7cfe-4299-a85c-08b4c1699d2e",
   "metadata": {},
   "outputs": [
    {
     "data": {
      "text/html": [
       "<div>\n",
       "<style scoped>\n",
       "    .dataframe tbody tr th:only-of-type {\n",
       "        vertical-align: middle;\n",
       "    }\n",
       "\n",
       "    .dataframe tbody tr th {\n",
       "        vertical-align: top;\n",
       "    }\n",
       "\n",
       "    .dataframe thead th {\n",
       "        text-align: right;\n",
       "    }\n",
       "</style>\n",
       "<table border=\"1\" class=\"dataframe\">\n",
       "  <thead>\n",
       "    <tr style=\"text-align: right;\">\n",
       "      <th></th>\n",
       "      <th>Dense1</th>\n",
       "      <th>Dense2</th>\n",
       "      <th>Dense3</th>\n",
       "      <th>Dense4</th>\n",
       "    </tr>\n",
       "  </thead>\n",
       "  <tbody>\n",
       "    <tr>\n",
       "      <th>0</th>\n",
       "      <td>41.0</td>\n",
       "      <td>1.0</td>\n",
       "      <td>47.0</td>\n",
       "      <td>2721.0</td>\n",
       "    </tr>\n",
       "    <tr>\n",
       "      <th>1</th>\n",
       "      <td>38.0</td>\n",
       "      <td>2.0</td>\n",
       "      <td>2.0</td>\n",
       "      <td>1.0</td>\n",
       "    </tr>\n",
       "    <tr>\n",
       "      <th>2</th>\n",
       "      <td>37.0</td>\n",
       "      <td>40.0</td>\n",
       "      <td>31.0</td>\n",
       "      <td>43.0</td>\n",
       "    </tr>\n",
       "    <tr>\n",
       "      <th>3</th>\n",
       "      <td>2035.0</td>\n",
       "      <td>1.0</td>\n",
       "      <td>41.0</td>\n",
       "      <td>41.0</td>\n",
       "    </tr>\n",
       "    <tr>\n",
       "      <th>4</th>\n",
       "      <td>364.0</td>\n",
       "      <td>301.0</td>\n",
       "      <td>80.0</td>\n",
       "      <td>2.0</td>\n",
       "    </tr>\n",
       "    <tr>\n",
       "      <th>5</th>\n",
       "      <td>12.0</td>\n",
       "      <td>1.0</td>\n",
       "      <td>1.0</td>\n",
       "      <td>2.0</td>\n",
       "    </tr>\n",
       "    <tr>\n",
       "      <th>6</th>\n",
       "      <td>12.0</td>\n",
       "      <td>1230.0</td>\n",
       "      <td>2789.0</td>\n",
       "      <td>2.0</td>\n",
       "    </tr>\n",
       "    <tr>\n",
       "      <th>7</th>\n",
       "      <td>1.0</td>\n",
       "      <td>412.0</td>\n",
       "      <td>112.0</td>\n",
       "      <td>3.0</td>\n",
       "    </tr>\n",
       "    <tr>\n",
       "      <th>8</th>\n",
       "      <td>21.0</td>\n",
       "      <td>13.0</td>\n",
       "      <td>2263.0</td>\n",
       "      <td>455.0</td>\n",
       "    </tr>\n",
       "    <tr>\n",
       "      <th>9</th>\n",
       "      <td>41.0</td>\n",
       "      <td>3.0</td>\n",
       "      <td>679.0</td>\n",
       "      <td>2561.0</td>\n",
       "    </tr>\n",
       "  </tbody>\n",
       "</table>\n",
       "</div>"
      ],
      "text/plain": [
       "   Dense1  Dense2  Dense3  Dense4\n",
       "0    41.0     1.0    47.0  2721.0\n",
       "1    38.0     2.0     2.0     1.0\n",
       "2    37.0    40.0    31.0    43.0\n",
       "3  2035.0     1.0    41.0    41.0\n",
       "4   364.0   301.0    80.0     2.0\n",
       "5    12.0     1.0     1.0     2.0\n",
       "6    12.0  1230.0  2789.0     2.0\n",
       "7     1.0   412.0   112.0     3.0\n",
       "8    21.0    13.0  2263.0   455.0\n",
       "9    41.0     3.0   679.0  2561.0"
      ]
     },
     "execution_count": 44,
     "metadata": {},
     "output_type": "execute_result"
    }
   ],
   "source": [
    "dataNew"
   ]
  },
  {
   "cell_type": "code",
   "execution_count": 349,
   "id": "9e9b9e44-7a34-4de3-b429-fe51357a3e7f",
   "metadata": {},
   "outputs": [
    {
     "data": {
      "text/html": [
       "<div>\n",
       "<style scoped>\n",
       "    .dataframe tbody tr th:only-of-type {\n",
       "        vertical-align: middle;\n",
       "    }\n",
       "\n",
       "    .dataframe tbody tr th {\n",
       "        vertical-align: top;\n",
       "    }\n",
       "\n",
       "    .dataframe thead th {\n",
       "        text-align: right;\n",
       "    }\n",
       "</style>\n",
       "<table border=\"1\" class=\"dataframe\">\n",
       "  <thead>\n",
       "    <tr style=\"text-align: right;\">\n",
       "      <th></th>\n",
       "      <th>Dense1</th>\n",
       "      <th>Dense2</th>\n",
       "      <th>Dense3</th>\n",
       "      <th>Dense4</th>\n",
       "    </tr>\n",
       "  </thead>\n",
       "  <tbody>\n",
       "    <tr>\n",
       "      <th>count</th>\n",
       "      <td>10.000000</td>\n",
       "      <td>10.000000</td>\n",
       "      <td>10.000000</td>\n",
       "      <td>10.000000</td>\n",
       "    </tr>\n",
       "    <tr>\n",
       "      <th>mean</th>\n",
       "      <td>260.200000</td>\n",
       "      <td>200.400000</td>\n",
       "      <td>604.500000</td>\n",
       "      <td>583.100000</td>\n",
       "    </tr>\n",
       "    <tr>\n",
       "      <th>std</th>\n",
       "      <td>632.770417</td>\n",
       "      <td>390.644539</td>\n",
       "      <td>1039.782483</td>\n",
       "      <td>1094.079161</td>\n",
       "    </tr>\n",
       "    <tr>\n",
       "      <th>min</th>\n",
       "      <td>1.000000</td>\n",
       "      <td>1.000000</td>\n",
       "      <td>1.000000</td>\n",
       "      <td>1.000000</td>\n",
       "    </tr>\n",
       "    <tr>\n",
       "      <th>25%</th>\n",
       "      <td>14.250000</td>\n",
       "      <td>1.250000</td>\n",
       "      <td>33.500000</td>\n",
       "      <td>2.000000</td>\n",
       "    </tr>\n",
       "    <tr>\n",
       "      <th>50%</th>\n",
       "      <td>37.500000</td>\n",
       "      <td>8.000000</td>\n",
       "      <td>63.500000</td>\n",
       "      <td>22.000000</td>\n",
       "    </tr>\n",
       "    <tr>\n",
       "      <th>75%</th>\n",
       "      <td>41.000000</td>\n",
       "      <td>235.750000</td>\n",
       "      <td>537.250000</td>\n",
       "      <td>352.000000</td>\n",
       "    </tr>\n",
       "    <tr>\n",
       "      <th>max</th>\n",
       "      <td>2035.000000</td>\n",
       "      <td>1230.000000</td>\n",
       "      <td>2789.000000</td>\n",
       "      <td>2721.000000</td>\n",
       "    </tr>\n",
       "  </tbody>\n",
       "</table>\n",
       "</div>"
      ],
      "text/plain": [
       "            Dense1       Dense2       Dense3       Dense4\n",
       "count    10.000000    10.000000    10.000000    10.000000\n",
       "mean    260.200000   200.400000   604.500000   583.100000\n",
       "std     632.770417   390.644539  1039.782483  1094.079161\n",
       "min       1.000000     1.000000     1.000000     1.000000\n",
       "25%      14.250000     1.250000    33.500000     2.000000\n",
       "50%      37.500000     8.000000    63.500000    22.000000\n",
       "75%      41.000000   235.750000   537.250000   352.000000\n",
       "max    2035.000000  1230.000000  2789.000000  2721.000000"
      ]
     },
     "execution_count": 349,
     "metadata": {},
     "output_type": "execute_result"
    }
   ],
   "source": [
    "dataNew.describe()"
   ]
  },
  {
   "cell_type": "code",
   "execution_count": 350,
   "id": "d06bf6d9-f596-450a-bdea-5171c4750c90",
   "metadata": {},
   "outputs": [],
   "source": [
    "#Plot number of Corona cases across different density groups to check their distribution.\n",
    "def plot_distribution(dataNew):\n",
    "    fig = plt.figure(figsize=(10,10))\n",
    "    title = fig.suptitle(\"Corona cases across different density groups\", fontsize=14)\n",
    "    fig.subplots_adjust(top=0.85, wspace=0.3)\n",
    "\n",
    "    ax1 = fig.add_subplot(2,2,1)\n",
    "    ax1.set_title(\"density Group-Dense1 & Corona Cases\")\n",
    "    ax1.set_xlabel(\"density Group -Dense1\")\n",
    "    ax1.set_ylabel(\"Corona Cases\") \n",
    "    sns.kdeplot(dataNew['Dense1'], ax=ax1, shade=True, bw_adjust=1, color='g')\n",
    "\n",
    "    ax2 = fig.add_subplot(2,2,2)\n",
    "    ax2.set_title(\"density Group -Dense2 & Corona Cases\")\n",
    "    ax2.set_xlabel(\"density Group -Dense2\")\n",
    "    ax2.set_ylabel(\"Corona Cases\") \n",
    "    sns.kdeplot(dataNew['Dense2'], ax=ax2, shade=True, bw_adjust=1, color='y')\n",
    "\n",
    "    ax2 = fig.add_subplot(2,2,3)\n",
    "    ax2.set_title(\"density Group -Dense2 & Corona Cases\")\n",
    "    ax2.set_xlabel(\"density Group -Dense3\")\n",
    "    ax2.set_ylabel(\"Corona Cases\") \n",
    "    sns.kdeplot(dataNew['Dense3'], ax=ax2, shade=True, bw_adjust=1, color='r')\n",
    "\n",
    "    ax2 = fig.add_subplot(2,2,4)\n",
    "    ax2.set_title(\"density Group -Dense4 & Corona Cases\")\n",
    "    ax2.set_xlabel(\"density Group -Dense4\")\n",
    "    ax2.set_ylabel(\"Corona Cases\") \n",
    "    sns.kdeplot(dataNew['Dense4'], ax=ax2, shade=True, bw_adjust=1, color='b')\n",
    "    plt.show()"
   ]
  },
  {
   "cell_type": "code",
   "execution_count": 351,
   "id": "c69ef22f-0b56-4cdf-8f9e-432062810236",
   "metadata": {},
   "outputs": [
    {
     "data": {
      "image/png": "[encoded data removed]",
      "text/plain": [
       "<Figure size 720x720 with 4 Axes>"
      ]
     },
     "metadata": {
      "needs_background": "light"
     },
     "output_type": "display_data"
    }
   ],
   "source": [
    "plot_distribution(dataNew)"
   ]
  },
  {
   "cell_type": "code",
   "execution_count": 45,
   "id": "814bb5b7-1817-4546-9536-f71eeec12519",
   "metadata": {},
   "outputs": [],
   "source": [
    "# Box Cox transformation to Normality\n",
    "dataNew['Dense1'],fitted_lambda = stats.boxcox(dataNew['Dense1'])\n",
    "dataNew['Dense2'],fitted_lambda = stats.boxcox(dataNew['Dense2'])\n",
    "dataNew['Dense3'],fitted_lambda = stats.boxcox(dataNew['Dense3'])\n",
    "dataNew['Dense4'],fitted_lambda = stats.boxcox(dataNew['Dense4'])"
   ]
  },
  {
   "cell_type": "code",
   "execution_count": 46,
   "id": "2b894125-48f3-4196-9a51-edccd118073a",
   "metadata": {},
   "outputs": [
    {
     "data": {
      "text/html": [
       "<div>\n",
       "<style scoped>\n",
       "    .dataframe tbody tr th:only-of-type {\n",
       "        vertical-align: middle;\n",
       "    }\n",
       "\n",
       "    .dataframe tbody tr th {\n",
       "        vertical-align: top;\n",
       "    }\n",
       "\n",
       "    .dataframe thead th {\n",
       "        text-align: right;\n",
       "    }\n",
       "</style>\n",
       "<table border=\"1\" class=\"dataframe\">\n",
       "  <thead>\n",
       "    <tr style=\"text-align: right;\">\n",
       "      <th></th>\n",
       "      <th>count</th>\n",
       "      <th>mean</th>\n",
       "      <th>std</th>\n",
       "      <th>min</th>\n",
       "      <th>25%</th>\n",
       "      <th>50%</th>\n",
       "      <th>75%</th>\n",
       "      <th>max</th>\n",
       "    </tr>\n",
       "  </thead>\n",
       "  <tbody>\n",
       "    <tr>\n",
       "      <th>Dense1</th>\n",
       "      <td>10.0</td>\n",
       "      <td>3.197675</td>\n",
       "      <td>1.648665</td>\n",
       "      <td>0.0</td>\n",
       "      <td>2.441793</td>\n",
       "      <td>3.284128</td>\n",
       "      <td>3.357049</td>\n",
       "      <td>6.216892</td>\n",
       "    </tr>\n",
       "    <tr>\n",
       "      <th>Dense2</th>\n",
       "      <td>10.0</td>\n",
       "      <td>1.875117</td>\n",
       "      <td>1.763699</td>\n",
       "      <td>0.0</td>\n",
       "      <td>0.164506</td>\n",
       "      <td>1.568902</td>\n",
       "      <td>3.572922</td>\n",
       "      <td>4.356097</td>\n",
       "    </tr>\n",
       "    <tr>\n",
       "      <th>Dense3</th>\n",
       "      <td>10.0</td>\n",
       "      <td>4.774427</td>\n",
       "      <td>3.068434</td>\n",
       "      <td>0.0</td>\n",
       "      <td>3.732793</td>\n",
       "      <td>4.435388</td>\n",
       "      <td>6.791456</td>\n",
       "      <td>9.171120</td>\n",
       "    </tr>\n",
       "    <tr>\n",
       "      <th>Dense4</th>\n",
       "      <td>10.0</td>\n",
       "      <td>2.202865</td>\n",
       "      <td>1.810644</td>\n",
       "      <td>0.0</td>\n",
       "      <td>0.658643</td>\n",
       "      <td>1.933808</td>\n",
       "      <td>3.734736</td>\n",
       "      <td>4.651681</td>\n",
       "    </tr>\n",
       "  </tbody>\n",
       "</table>\n",
       "</div>"
      ],
      "text/plain": [
       "        count      mean       std  min       25%       50%       75%       max\n",
       "Dense1   10.0  3.197675  1.648665  0.0  2.441793  3.284128  3.357049  6.216892\n",
       "Dense2   10.0  1.875117  1.763699  0.0  0.164506  1.568902  3.572922  4.356097\n",
       "Dense3   10.0  4.774427  3.068434  0.0  3.732793  4.435388  6.791456  9.171120\n",
       "Dense4   10.0  2.202865  1.810644  0.0  0.658643  1.933808  3.734736  4.651681"
      ]
     },
     "execution_count": 46,
     "metadata": {},
     "output_type": "execute_result"
    }
   ],
   "source": [
    "dataNew.describe().T"
   ]
  },
  {
   "cell_type": "code",
   "execution_count": 354,
   "id": "5e23fb1e-337f-4b68-ae61-f996347d12c1",
   "metadata": {},
   "outputs": [
    {
     "data": {
      "image/png": "[encoded data removed]",
      "text/plain": [
       "<Figure size 720x720 with 4 Axes>"
      ]
     },
     "metadata": {
      "needs_background": "light"
     },
     "output_type": "display_data"
    }
   ],
   "source": [
    "plot_distribution(dataNew)"
   ]
  },
  {
   "cell_type": "code",
   "execution_count": 49,
   "id": "95319d16-3e6d-4d33-a487-3c2a51d2451e",
   "metadata": {},
   "outputs": [],
   "source": [
    "# Normality Check\n",
    "def normality(data, groups):\n",
    "    for group in groups:\n",
    "        statistic, pvalue = stats.shapiro(data[group])\n",
    "        print(f'{group} p-value: {pvalue:.2f}')"
   ]
  },
  {
   "cell_type": "code",
   "execution_count": 48,
   "id": "6a502e5d-7757-4449-a8df-ed61f581a2e6",
   "metadata": {},
   "outputs": [
    {
     "name": "stdout",
     "output_type": "stream",
     "text": [
      "H0: Data was drawn from a normal distribution\n",
      "--------------------------------------------------\n",
      "Dense1 p-value: 0.37\n",
      "Dense2 p-value: 0.09\n",
      "Dense3 p-value: 0.53\n",
      "Dense4 p-value: 0.08\n"
     ]
    }
   ],
   "source": [
    "groups = ['Dense1', 'Dense2', 'Dense3', 'Dense4']\n",
    "print('H0: Data was drawn from a normal distribution')\n",
    "print('-'*50)\n",
    "normality(dataNew, groups)"
   ]
  },
  {
   "cell_type": "code",
   "execution_count": 50,
   "id": "c9e06233-a165-43b8-949b-5798eb3bf833",
   "metadata": {},
   "outputs": [
    {
     "name": "stdout",
     "output_type": "stream",
     "text": [
      "H0: samples are from populations with equal variances\n",
      "--------------------------------------------------\n",
      "p-value 0.2\n"
     ]
    }
   ],
   "source": [
    "# Homogeneity Check\n",
    "statistic, pvalue = stats.levene(dataNew['Dense1'], dataNew['Dense2'], dataNew['Dense3'], dataNew['Dense4'])\n",
    "print('H0: samples are from populations with equal variances')\n",
    "print('-'*50)\n",
    "print('p-value', round(pvalue,2))"
   ]
  },
  {
   "cell_type": "markdown",
   "id": "8d941f43-df3f-470f-8726-10ec52bd1c74",
   "metadata": {},
   "source": [
    "## Approach 1: Using stats.f_oneway()"
   ]
  },
  {
   "cell_type": "code",
   "execution_count": 51,
   "id": "3c0137f2-9605-4fee-a17b-4d765664a780",
   "metadata": {},
   "outputs": [
    {
     "name": "stdout",
     "output_type": "stream",
     "text": [
      "H0: All groups have the same population mean (There is no significant difference as per density of an area and number of covid cases. )\n",
      "--------------------------------------------------\n",
      "F-Statistic: 3.66 with p-value: 0.02\n"
     ]
    }
   ],
   "source": [
    "f_score, pvalue = stats.f_oneway(dataNew['Dense1'], dataNew['Dense2'], dataNew['Dense3'], dataNew['Dense4'])\n",
    "print('H0: All groups have the same population mean (There is no significant difference as per density of an area and number of covid cases. )')\n",
    "print('-'*50)\n",
    "print(f'F-Statistic: {f_score:.2f} with p-value: {pvalue:.2f}')"
   ]
  },
  {
   "cell_type": "markdown",
   "id": "b8991ba8-c43c-4633-9232-e060901328f8",
   "metadata": {},
   "source": [
    "## Approach 2: Using OLS"
   ]
  },
  {
   "cell_type": "code",
   "execution_count": 27,
   "id": "479b681e-aef3-4609-9332-7aa9905bfd94",
   "metadata": {},
   "outputs": [
    {
     "data": {
      "text/html": [
       "<div>\n",
       "<style scoped>\n",
       "    .dataframe tbody tr th:only-of-type {\n",
       "        vertical-align: middle;\n",
       "    }\n",
       "\n",
       "    .dataframe tbody tr th {\n",
       "        vertical-align: top;\n",
       "    }\n",
       "\n",
       "    .dataframe thead th {\n",
       "        text-align: right;\n",
       "    }\n",
       "</style>\n",
       "<table border=\"1\" class=\"dataframe\">\n",
       "  <thead>\n",
       "    <tr style=\"text-align: right;\">\n",
       "      <th></th>\n",
       "      <th>Dense1</th>\n",
       "      <th>Dense2</th>\n",
       "      <th>Dense3</th>\n",
       "      <th>Dense4</th>\n",
       "    </tr>\n",
       "  </thead>\n",
       "  <tbody>\n",
       "    <tr>\n",
       "      <th>0</th>\n",
       "      <td>41.0</td>\n",
       "      <td>1.0</td>\n",
       "      <td>47.0</td>\n",
       "      <td>2721.0</td>\n",
       "    </tr>\n",
       "    <tr>\n",
       "      <th>1</th>\n",
       "      <td>38.0</td>\n",
       "      <td>2.0</td>\n",
       "      <td>2.0</td>\n",
       "      <td>1.0</td>\n",
       "    </tr>\n",
       "    <tr>\n",
       "      <th>2</th>\n",
       "      <td>37.0</td>\n",
       "      <td>40.0</td>\n",
       "      <td>31.0</td>\n",
       "      <td>43.0</td>\n",
       "    </tr>\n",
       "    <tr>\n",
       "      <th>3</th>\n",
       "      <td>2035.0</td>\n",
       "      <td>1.0</td>\n",
       "      <td>41.0</td>\n",
       "      <td>41.0</td>\n",
       "    </tr>\n",
       "    <tr>\n",
       "      <th>4</th>\n",
       "      <td>364.0</td>\n",
       "      <td>301.0</td>\n",
       "      <td>80.0</td>\n",
       "      <td>2.0</td>\n",
       "    </tr>\n",
       "  </tbody>\n",
       "</table>\n",
       "</div>"
      ],
      "text/plain": [
       "   Dense1  Dense2  Dense3  Dense4\n",
       "0    41.0     1.0    47.0  2721.0\n",
       "1    38.0     2.0     2.0     1.0\n",
       "2    37.0    40.0    31.0    43.0\n",
       "3  2035.0     1.0    41.0    41.0\n",
       "4   364.0   301.0    80.0     2.0"
      ]
     },
     "execution_count": 27,
     "metadata": {},
     "output_type": "execute_result"
    }
   ],
   "source": [
    "dataNew.head()"
   ]
  },
  {
   "cell_type": "code",
   "execution_count": 52,
   "id": "201907f0-078f-4cf0-ad2d-d0600646e9e7",
   "metadata": {
    "tags": []
   },
   "outputs": [],
   "source": [
    "# Transform dataframe to have target variable for OLS formula\n",
    "newDf = dataNew.stack().to_frame().reset_index().rename(columns={'level_1': 'density_Group', 0: 'Count'})\n",
    "\n",
    "del newDf['level_0']"
   ]
  },
  {
   "cell_type": "code",
   "execution_count": 53,
   "id": "59d8c008-7576-438d-88a4-21cec7db2cc1",
   "metadata": {},
   "outputs": [
    {
     "data": {
      "text/html": [
       "<div>\n",
       "<style scoped>\n",
       "    .dataframe tbody tr th:only-of-type {\n",
       "        vertical-align: middle;\n",
       "    }\n",
       "\n",
       "    .dataframe tbody tr th {\n",
       "        vertical-align: top;\n",
       "    }\n",
       "\n",
       "    .dataframe thead th {\n",
       "        text-align: right;\n",
       "    }\n",
       "</style>\n",
       "<table border=\"1\" class=\"dataframe\">\n",
       "  <thead>\n",
       "    <tr style=\"text-align: right;\">\n",
       "      <th></th>\n",
       "      <th>density_Group</th>\n",
       "      <th>Count</th>\n",
       "    </tr>\n",
       "  </thead>\n",
       "  <tbody>\n",
       "    <tr>\n",
       "      <th>0</th>\n",
       "      <td>Dense1</td>\n",
       "      <td>3.357049</td>\n",
       "    </tr>\n",
       "    <tr>\n",
       "      <th>1</th>\n",
       "      <td>Dense2</td>\n",
       "      <td>0.000000</td>\n",
       "    </tr>\n",
       "    <tr>\n",
       "      <th>2</th>\n",
       "      <td>Dense3</td>\n",
       "      <td>4.127342</td>\n",
       "    </tr>\n",
       "    <tr>\n",
       "      <th>3</th>\n",
       "      <td>Dense4</td>\n",
       "      <td>4.651681</td>\n",
       "    </tr>\n",
       "    <tr>\n",
       "      <th>4</th>\n",
       "      <td>Dense1</td>\n",
       "      <td>3.295040</td>\n",
       "    </tr>\n",
       "  </tbody>\n",
       "</table>\n",
       "</div>"
      ],
      "text/plain": [
       "  density_Group     Count\n",
       "0        Dense1  3.357049\n",
       "1        Dense2  0.000000\n",
       "2        Dense3  4.127342\n",
       "3        Dense4  4.651681\n",
       "4        Dense1  3.295040"
      ]
     },
     "execution_count": 53,
     "metadata": {},
     "output_type": "execute_result"
    }
   ],
   "source": [
    "newDf.head()"
   ]
  },
  {
   "cell_type": "code",
   "execution_count": 54,
   "id": "8b7cb8ea-a101-4ad5-965d-e5c3be94d237",
   "metadata": {},
   "outputs": [
    {
     "data": {
      "text/html": [
       "<table class=\"simpletable\">\n",
       "<caption>OLS Regression Results</caption>\n",
       "<tr>\n",
       "  <th>Dep. Variable:</th>          <td>Count</td>      <th>  R-squared:         </th> <td>   0.234</td>\n",
       "</tr>\n",
       "<tr>\n",
       "  <th>Model:</th>                   <td>OLS</td>       <th>  Adj. R-squared:    </th> <td>   0.170</td>\n",
       "</tr>\n",
       "<tr>\n",
       "  <th>Method:</th>             <td>Least Squares</td>  <th>  F-statistic:       </th> <td>   3.662</td>\n",
       "</tr>\n",
       "<tr>\n",
       "  <th>Date:</th>             <td>Sat, 31 Jul 2021</td> <th>  Prob (F-statistic):</th>  <td>0.0211</td> \n",
       "</tr>\n",
       "<tr>\n",
       "  <th>Time:</th>                 <td>12:48:32</td>     <th>  Log-Likelihood:    </th> <td> -85.304</td>\n",
       "</tr>\n",
       "<tr>\n",
       "  <th>No. Observations:</th>      <td>    40</td>      <th>  AIC:               </th> <td>   178.6</td>\n",
       "</tr>\n",
       "<tr>\n",
       "  <th>Df Residuals:</th>          <td>    36</td>      <th>  BIC:               </th> <td>   185.4</td>\n",
       "</tr>\n",
       "<tr>\n",
       "  <th>Df Model:</th>              <td>     3</td>      <th>                     </th>     <td> </td>   \n",
       "</tr>\n",
       "<tr>\n",
       "  <th>Covariance Type:</th>      <td>nonrobust</td>    <th>                     </th>     <td> </td>   \n",
       "</tr>\n",
       "</table>\n",
       "<table class=\"simpletable\">\n",
       "<tr>\n",
       "               <td></td>                 <th>coef</th>     <th>std err</th>      <th>t</th>      <th>P>|t|</th>  <th>[0.025</th>    <th>0.975]</th>  \n",
       "</tr>\n",
       "<tr>\n",
       "  <th>Intercept</th>                  <td>    3.1977</td> <td>    0.680</td> <td>    4.699</td> <td> 0.000</td> <td>    1.818</td> <td>    4.578</td>\n",
       "</tr>\n",
       "<tr>\n",
       "  <th>C(density_Group)[T.Dense2]</th> <td>   -1.3226</td> <td>    0.962</td> <td>   -1.374</td> <td> 0.178</td> <td>   -3.274</td> <td>    0.629</td>\n",
       "</tr>\n",
       "<tr>\n",
       "  <th>C(density_Group)[T.Dense3]</th> <td>    1.5768</td> <td>    0.962</td> <td>    1.638</td> <td> 0.110</td> <td>   -0.375</td> <td>    3.528</td>\n",
       "</tr>\n",
       "<tr>\n",
       "  <th>C(density_Group)[T.Dense4]</th> <td>   -0.9948</td> <td>    0.962</td> <td>   -1.034</td> <td> 0.308</td> <td>   -2.947</td> <td>    0.957</td>\n",
       "</tr>\n",
       "</table>\n",
       "<table class=\"simpletable\">\n",
       "<tr>\n",
       "  <th>Omnibus:</th>       <td> 0.031</td> <th>  Durbin-Watson:     </th> <td>   1.390</td>\n",
       "</tr>\n",
       "<tr>\n",
       "  <th>Prob(Omnibus):</th> <td> 0.984</td> <th>  Jarque-Bera (JB):  </th> <td>   0.087</td>\n",
       "</tr>\n",
       "<tr>\n",
       "  <th>Skew:</th>          <td> 0.045</td> <th>  Prob(JB):          </th> <td>   0.958</td>\n",
       "</tr>\n",
       "<tr>\n",
       "  <th>Kurtosis:</th>      <td> 2.790</td> <th>  Cond. No.          </th> <td>    4.79</td>\n",
       "</tr>\n",
       "</table><br/><br/>Notes:<br/>[1] Standard Errors assume that the covariance matrix of the errors is correctly specified."
      ],
      "text/plain": [
       "<class 'statsmodels.iolib.summary.Summary'>\n",
       "\"\"\"\n",
       "                            OLS Regression Results                            \n",
       "==============================================================================\n",
       "Dep. Variable:                  Count   R-squared:                       0.234\n",
       "Model:                            OLS   Adj. R-squared:                  0.170\n",
       "Method:                 Least Squares   F-statistic:                     3.662\n",
       "Date:                Sat, 31 Jul 2021   Prob (F-statistic):             0.0211\n",
       "Time:                        12:48:32   Log-Likelihood:                -85.304\n",
       "No. Observations:                  40   AIC:                             178.6\n",
       "Df Residuals:                      36   BIC:                             185.4\n",
       "Df Model:                           3                                         \n",
       "Covariance Type:            nonrobust                                         \n",
       "==============================================================================================\n",
       "                                 coef    std err          t      P>|t|      [0.025      0.975]\n",
       "----------------------------------------------------------------------------------------------\n",
       "Intercept                      3.1977      0.680      4.699      0.000       1.818       4.578\n",
       "C(density_Group)[T.Dense2]    -1.3226      0.962     -1.374      0.178      -3.274       0.629\n",
       "C(density_Group)[T.Dense3]     1.5768      0.962      1.638      0.110      -0.375       3.528\n",
       "C(density_Group)[T.Dense4]    -0.9948      0.962     -1.034      0.308      -2.947       0.957\n",
       "==============================================================================\n",
       "Omnibus:                        0.031   Durbin-Watson:                   1.390\n",
       "Prob(Omnibus):                  0.984   Jarque-Bera (JB):                0.087\n",
       "Skew:                           0.045   Prob(JB):                        0.958\n",
       "Kurtosis:                       2.790   Cond. No.                         4.79\n",
       "==============================================================================\n",
       "\n",
       "Notes:\n",
       "[1] Standard Errors assume that the covariance matrix of the errors is correctly specified.\n",
       "\"\"\""
      ]
     },
     "execution_count": 54,
     "metadata": {},
     "output_type": "execute_result"
    }
   ],
   "source": [
    "model = ols('Count ~ C(density_Group)', newDf).fit()\n",
    "model.summary()"
   ]
  },
  {
   "cell_type": "code",
   "execution_count": 55,
   "id": "99771cd1-a7cb-44da-b8c7-f5446a144be6",
   "metadata": {},
   "outputs": [
    {
     "name": "stdout",
     "output_type": "stream",
     "text": [
      "Overall model F( 3, 36) =  3.662, p =  0.0211\n"
     ]
    }
   ],
   "source": [
    "# Seeing if the overall model is significant\n",
    "print(f\"Overall model F({model.df_model: .0f},{model.df_resid: .0f}) = {model.fvalue: .3f}, p = {model.f_pvalue: .4f}\")"
   ]
  },
  {
   "cell_type": "code",
   "execution_count": 56,
   "id": "d1927c0f-410c-4fa7-9814-fd991a7427e2",
   "metadata": {},
   "outputs": [
    {
     "data": {
      "text/html": [
       "<div>\n",
       "<style scoped>\n",
       "    .dataframe tbody tr th:only-of-type {\n",
       "        vertical-align: middle;\n",
       "    }\n",
       "\n",
       "    .dataframe tbody tr th {\n",
       "        vertical-align: top;\n",
       "    }\n",
       "\n",
       "    .dataframe thead th {\n",
       "        text-align: right;\n",
       "    }\n",
       "</style>\n",
       "<table border=\"1\" class=\"dataframe\">\n",
       "  <thead>\n",
       "    <tr style=\"text-align: right;\">\n",
       "      <th></th>\n",
       "      <th>sum_sq</th>\n",
       "      <th>df</th>\n",
       "      <th>F</th>\n",
       "      <th>PR(&gt;F)</th>\n",
       "    </tr>\n",
       "  </thead>\n",
       "  <tbody>\n",
       "    <tr>\n",
       "      <th>C(density_Group)</th>\n",
       "      <td>50.878267</td>\n",
       "      <td>3.0</td>\n",
       "      <td>3.662457</td>\n",
       "      <td>0.021125</td>\n",
       "    </tr>\n",
       "    <tr>\n",
       "      <th>Residual</th>\n",
       "      <td>166.702073</td>\n",
       "      <td>36.0</td>\n",
       "      <td>NaN</td>\n",
       "      <td>NaN</td>\n",
       "    </tr>\n",
       "  </tbody>\n",
       "</table>\n",
       "</div>"
      ],
      "text/plain": [
       "                      sum_sq    df         F    PR(>F)\n",
       "C(density_Group)   50.878267   3.0  3.662457  0.021125\n",
       "Residual          166.702073  36.0       NaN       NaN"
      ]
     },
     "execution_count": 56,
     "metadata": {},
     "output_type": "execute_result"
    }
   ],
   "source": [
    "# Creates the ANOVA table\n",
    "sm.stats.anova_lm(model, typ=2)"
   ]
  },
  {
   "cell_type": "markdown",
   "id": "d0cb6621-5338-43b2-9ef3-95754876416a",
   "metadata": {},
   "source": [
    "> Based on p-value of 0.02 we can reject the `H0: There is no significant difference as per density of an area and number of covid's cases`. An indication that there is an overall significant effect of density group on positive covid cases."
   ]
  },
  {
   "cell_type": "markdown",
   "id": "bafe39b1-ffa8-4f36-9996-a25f798225dc",
   "metadata": {},
   "source": [
    "> However, we don't know where the difference between density group YET. "
   ]
  },
  {
   "cell_type": "markdown",
   "id": "d2157013-69b7-4fc6-b3bc-598c48d1e557",
   "metadata": {},
   "source": [
    "## Post-hoc Tests"
   ]
  },
  {
   "cell_type": "code",
   "execution_count": 57,
   "id": "c54d1299-afee-4b92-af8c-0cca5b590438",
   "metadata": {},
   "outputs": [
    {
     "data": {
      "text/plain": [
       "density_Group     object\n",
       "Count            float64\n",
       "dtype: object"
      ]
     },
     "execution_count": 57,
     "metadata": {},
     "output_type": "execute_result"
    }
   ],
   "source": [
    "newDf.dtypes"
   ]
  },
  {
   "cell_type": "code",
   "execution_count": 58,
   "id": "8d77a6e3-628d-48e7-ae8b-f5cb8096a302",
   "metadata": {},
   "outputs": [
    {
     "data": {
      "text/html": [
       "<div>\n",
       "<style scoped>\n",
       "    .dataframe tbody tr th:only-of-type {\n",
       "        vertical-align: middle;\n",
       "    }\n",
       "\n",
       "    .dataframe tbody tr th {\n",
       "        vertical-align: top;\n",
       "    }\n",
       "\n",
       "    .dataframe thead th {\n",
       "        text-align: right;\n",
       "    }\n",
       "</style>\n",
       "<table border=\"1\" class=\"dataframe\">\n",
       "  <thead>\n",
       "    <tr style=\"text-align: right;\">\n",
       "      <th></th>\n",
       "      <th>density_Group</th>\n",
       "      <th>Count</th>\n",
       "    </tr>\n",
       "  </thead>\n",
       "  <tbody>\n",
       "    <tr>\n",
       "      <th>0</th>\n",
       "      <td>Dense1</td>\n",
       "      <td>3.357049</td>\n",
       "    </tr>\n",
       "    <tr>\n",
       "      <th>1</th>\n",
       "      <td>Dense2</td>\n",
       "      <td>0.000000</td>\n",
       "    </tr>\n",
       "    <tr>\n",
       "      <th>2</th>\n",
       "      <td>Dense3</td>\n",
       "      <td>4.127342</td>\n",
       "    </tr>\n",
       "    <tr>\n",
       "      <th>3</th>\n",
       "      <td>Dense4</td>\n",
       "      <td>4.651681</td>\n",
       "    </tr>\n",
       "    <tr>\n",
       "      <th>4</th>\n",
       "      <td>Dense1</td>\n",
       "      <td>3.295040</td>\n",
       "    </tr>\n",
       "  </tbody>\n",
       "</table>\n",
       "</div>"
      ],
      "text/plain": [
       "  density_Group     Count\n",
       "0        Dense1  3.357049\n",
       "1        Dense2  0.000000\n",
       "2        Dense3  4.127342\n",
       "3        Dense4  4.651681\n",
       "4        Dense1  3.295040"
      ]
     },
     "execution_count": 58,
     "metadata": {},
     "output_type": "execute_result"
    }
   ],
   "source": [
    "newDf.head()"
   ]
  },
  {
   "cell_type": "code",
   "execution_count": 59,
   "id": "0a2b7a37-a774-4b71-b264-0493c6706635",
   "metadata": {},
   "outputs": [
    {
     "data": {
      "text/html": [
       "<table class=\"simpletable\">\n",
       "<caption>Multiple Comparison of Means - Tukey HSD, FWER=0.05</caption>\n",
       "<tr>\n",
       "  <th>group1</th> <th>group2</th> <th>meandiff</th>  <th>p-adj</th>  <th>lower</th>   <th>upper</th> <th>reject</th>\n",
       "</tr>\n",
       "<tr>\n",
       "  <td>Dense1</td> <td>Dense2</td>  <td>-1.3226</td>  <td>0.521</td> <td>-3.9144</td> <td>1.2693</td>  <td>False</td>\n",
       "</tr>\n",
       "<tr>\n",
       "  <td>Dense1</td> <td>Dense3</td>  <td>1.5768</td>  <td>0.3714</td> <td>-1.0151</td> <td>4.1686</td>  <td>False</td>\n",
       "</tr>\n",
       "<tr>\n",
       "  <td>Dense1</td> <td>Dense4</td>  <td>-0.9948</td> <td>0.7091</td> <td>-3.5867</td> <td>1.5971</td>  <td>False</td>\n",
       "</tr>\n",
       "<tr>\n",
       "  <td>Dense2</td> <td>Dense3</td>  <td>2.8993</td>  <td>0.0233</td> <td>0.3074</td>  <td>5.4912</td>  <td>True</td> \n",
       "</tr>\n",
       "<tr>\n",
       "  <td>Dense2</td> <td>Dense4</td>  <td>0.3277</td>    <td>0.9</td>  <td>-2.2641</td> <td>2.9196</td>  <td>False</td>\n",
       "</tr>\n",
       "<tr>\n",
       "  <td>Dense3</td> <td>Dense4</td>  <td>-2.5716</td> <td>0.0525</td> <td>-5.1634</td> <td>0.0203</td>  <td>False</td>\n",
       "</tr>\n",
       "</table>"
      ],
      "text/plain": [
       "<class 'statsmodels.iolib.table.SimpleTable'>"
      ]
     },
     "execution_count": 59,
     "metadata": {},
     "output_type": "execute_result"
    }
   ],
   "source": [
    "mc = statsmodels.stats.multicomp.MultiComparison(newDf['Count'], newDf['density_Group'])\n",
    "# Tukey's range test to compare means of all pairs groups\n",
    "mc_results = mc.tukeyhsd()\n",
    "mc_results.summary()"
   ]
  },
  {
   "cell_type": "code",
   "execution_count": 36,
   "id": "b2b57520-a417-4c5b-a723-7c26d613f510",
   "metadata": {},
   "outputs": [
    {
     "data": {
      "text/plain": [
       "array([0.9       , 0.77457103, 0.8059751 , 0.68680671, 0.71821298,\n",
       "       0.9       ])"
      ]
     },
     "execution_count": 36,
     "metadata": {},
     "output_type": "execute_result"
    }
   ],
   "source": [
    "mc_results.pvalues"
   ]
  },
  {
   "cell_type": "code",
   "execution_count": 37,
   "id": "c9d7fca2-8fd1-41af-8d3a-a03f25473dbe",
   "metadata": {},
   "outputs": [
    {
     "data": {
      "text/html": [
       "<div>\n",
       "<style scoped>\n",
       "    .dataframe tbody tr th:only-of-type {\n",
       "        vertical-align: middle;\n",
       "    }\n",
       "\n",
       "    .dataframe tbody tr th {\n",
       "        vertical-align: top;\n",
       "    }\n",
       "\n",
       "    .dataframe thead th {\n",
       "        text-align: right;\n",
       "    }\n",
       "</style>\n",
       "<table border=\"1\" class=\"dataframe\">\n",
       "  <thead>\n",
       "    <tr style=\"text-align: right;\">\n",
       "      <th></th>\n",
       "      <th>count</th>\n",
       "      <th>mean</th>\n",
       "      <th>std</th>\n",
       "      <th>min</th>\n",
       "      <th>25%</th>\n",
       "      <th>50%</th>\n",
       "      <th>75%</th>\n",
       "      <th>max</th>\n",
       "    </tr>\n",
       "  </thead>\n",
       "  <tbody>\n",
       "    <tr>\n",
       "      <th>Dense1</th>\n",
       "      <td>10.0</td>\n",
       "      <td>260.2</td>\n",
       "      <td>632.770417</td>\n",
       "      <td>1.0</td>\n",
       "      <td>14.25</td>\n",
       "      <td>37.5</td>\n",
       "      <td>41.00</td>\n",
       "      <td>2035.0</td>\n",
       "    </tr>\n",
       "    <tr>\n",
       "      <th>Dense2</th>\n",
       "      <td>10.0</td>\n",
       "      <td>200.4</td>\n",
       "      <td>390.644539</td>\n",
       "      <td>1.0</td>\n",
       "      <td>1.25</td>\n",
       "      <td>8.0</td>\n",
       "      <td>235.75</td>\n",
       "      <td>1230.0</td>\n",
       "    </tr>\n",
       "    <tr>\n",
       "      <th>Dense3</th>\n",
       "      <td>10.0</td>\n",
       "      <td>604.5</td>\n",
       "      <td>1039.782483</td>\n",
       "      <td>1.0</td>\n",
       "      <td>33.50</td>\n",
       "      <td>63.5</td>\n",
       "      <td>537.25</td>\n",
       "      <td>2789.0</td>\n",
       "    </tr>\n",
       "    <tr>\n",
       "      <th>Dense4</th>\n",
       "      <td>10.0</td>\n",
       "      <td>583.1</td>\n",
       "      <td>1094.079161</td>\n",
       "      <td>1.0</td>\n",
       "      <td>2.00</td>\n",
       "      <td>22.0</td>\n",
       "      <td>352.00</td>\n",
       "      <td>2721.0</td>\n",
       "    </tr>\n",
       "  </tbody>\n",
       "</table>\n",
       "</div>"
      ],
      "text/plain": [
       "        count   mean          std  min    25%   50%     75%     max\n",
       "Dense1   10.0  260.2   632.770417  1.0  14.25  37.5   41.00  2035.0\n",
       "Dense2   10.0  200.4   390.644539  1.0   1.25   8.0  235.75  1230.0\n",
       "Dense3   10.0  604.5  1039.782483  1.0  33.50  63.5  537.25  2789.0\n",
       "Dense4   10.0  583.1  1094.079161  1.0   2.00  22.0  352.00  2721.0"
      ]
     },
     "execution_count": 37,
     "metadata": {},
     "output_type": "execute_result"
    }
   ],
   "source": [
    "dataNew.describe().T"
   ]
  },
  {
   "cell_type": "code",
   "execution_count": 38,
   "id": "315e7128-8144-490a-956e-ab0864e763e0",
   "metadata": {},
   "outputs": [
    {
     "name": "stdout",
     "output_type": "stream",
     "text": [
      "0.6326433069207031 0.5987778380615685\n"
     ]
    }
   ],
   "source": [
    "# Homogeneity of variances Check\n",
    "w, pvalue = stats.levene(newDf['Count'][newDf['density_Group']=='Dense1'], newDf['Count'][newDf['density_Group']=='Dense2']\n",
    "                           , newDf['Count'][newDf['density_Group']=='Dense3'], newDf['Count'][newDf['density_Group']=='Dense4'])\n",
    "print(w, pvalue)"
   ]
  },
  {
   "cell_type": "code",
   "execution_count": 39,
   "id": "12c87c20-4507-4bad-8f9e-0d49223a650d",
   "metadata": {},
   "outputs": [
    {
     "data": {
      "text/plain": [
       "ShapiroResult(statistic=0.6768302917480469, pvalue=4.140572329447423e-08)"
      ]
     },
     "execution_count": 39,
     "metadata": {},
     "output_type": "execute_result"
    }
   ],
   "source": [
    "# Normality Check on residuals\n",
    "stats.shapiro(model.resid)"
   ]
  },
  {
   "cell_type": "code",
   "execution_count": 40,
   "id": "8efc08eb-6c17-4eb7-96c0-d99afe883a82",
   "metadata": {},
   "outputs": [
    {
     "data": {
      "image/png": "[encoded data removed]",
      "text/plain": [
       "<Figure size 432x288 with 1 Axes>"
      ]
     },
     "metadata": {
      "needs_background": "light"
     },
     "output_type": "display_data"
    }
   ],
   "source": [
    "# Q-Q Plot Check for Normal Distribution of residuals\n",
    "res = model.resid\n",
    "sm.qqplot(res, line='s')\n",
    "plt.show()"
   ]
  },
  {
   "cell_type": "markdown",
   "id": "d0bd8196-96b3-4a08-91cc-566bc42e7310",
   "metadata": {},
   "source": [
    "> We have satisfied all ANOVA assumptions. Therefore, the results from the test is valid. "
   ]
  },
  {
   "cell_type": "code",
   "execution_count": null,
   "id": "95020da9-9971-47ce-825d-788e26b317ec",
   "metadata": {},
   "outputs": [],
   "source": []
  }
 ],
 "metadata": {
  "kernelspec": {
   "display_name": "Python 3",
   "language": "python",
   "name": "python3"
  },
  "language_info": {
   "codemirror_mode": {
    "name": "ipython",
    "version": 3
   },
   "file_extension": ".py",
   "mimetype": "text/x-python",
   "name": "python",
   "nbconvert_exporter": "python",
   "pygments_lexer": "ipython3",
   "version": "3.8.10"
  }
 },
 "nbformat": 4,
 "nbformat_minor": 5
}
