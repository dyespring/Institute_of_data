{
 "cells": [
  {
   "cell_type": "code",
   "execution_count": 1,
   "id": "282df20b-c621-4682-8b70-5d00d8dc241f",
   "metadata": {},
   "outputs": [],
   "source": [
    "# Ignore  the warnings\n",
    "import warnings\n",
    "warnings.filterwarnings('always')\n",
    "warnings.filterwarnings('ignore')\n",
    "\n",
    "# data visualisation and manipulation\n",
    "import numpy as np\n",
    "import pandas as pd\n",
    "import matplotlib.pyplot as plt\n",
    "from matplotlib import style\n",
    "import seaborn as sns\n",
    "\n",
    "#configure\n",
    "# sets matplotlib to inline and displays graphs below the corressponding cell.\n",
    "%matplotlib inline  \n",
    "style.use('fivethirtyeight')\n",
    "sns.set(style='whitegrid',color_codes=True)"
   ]
  },
  {
   "cell_type": "code",
   "execution_count": 2,
   "id": "f54c6ae2-8320-46e9-90cc-5d76b5f1f9ec",
   "metadata": {},
   "outputs": [],
   "source": [
    "#model selection\n",
    "from sklearn.model_selection import train_test_split\n",
    "from sklearn.model_selection import KFold\n",
    "from sklearn.metrics import accuracy_score,precision_score,recall_score,confusion_matrix,roc_curve,roc_auc_score\n",
    "from sklearn.metrics import mean_absolute_error\n",
    "from sklearn.model_selection import GridSearchCV\n",
    "from sklearn.preprocessing import LabelEncoder\n",
    "\n",
    "#dl libraraies\n",
    "import keras\n",
    "from keras import backend as K\n",
    "from keras.models import Sequential\n",
    "from keras.layers import Dense , merge\n",
    "from keras.optimizers import Adam,SGD,Adagrad,Adadelta,RMSprop\n",
    "from keras.utils import to_categorical\n",
    "from keras.utils.vis_utils import model_to_dot\n",
    "from keras.callbacks import ReduceLROnPlateau\n",
    "\n",
    "from keras.layers.merge import dot\n",
    "from keras.models import Model"
   ]
  },
  {
   "cell_type": "code",
   "execution_count": 3,
   "id": "496f2911-f66f-478d-93e3-50addafb4bc7",
   "metadata": {},
   "outputs": [],
   "source": [
    "# specifically for deeplearning.\n",
    "from keras.layers import Dropout, Flatten,Activation,Input,Embedding\n",
    "from keras.layers import Conv2D, MaxPooling2D, BatchNormalization\n",
    "import tensorflow as tf\n",
    "import random as rn\n",
    "from IPython.display import SVG"
   ]
  },
  {
   "cell_type": "code",
   "execution_count": 4,
   "id": "226a1609-8d70-45e3-835b-743faaa75e25",
   "metadata": {},
   "outputs": [],
   "source": [
    "np.random.seed(123)"
   ]
  },
  {
   "cell_type": "code",
   "execution_count": 5,
   "id": "adf5857e-bda2-4161-99bc-c7fc55553555",
   "metadata": {},
   "outputs": [],
   "source": [
    "# Reading the CSV file\n",
    "train=pd.read_csv('../DATA/ratings_small.csv')"
   ]
  },
  {
   "cell_type": "code",
   "execution_count": 6,
   "id": "650cba78-a5c1-489c-ae24-cc293a0ab897",
   "metadata": {},
   "outputs": [
    {
     "data": {
      "text/html": [
       "<div>\n",
       "<style scoped>\n",
       "    .dataframe tbody tr th:only-of-type {\n",
       "        vertical-align: middle;\n",
       "    }\n",
       "\n",
       "    .dataframe tbody tr th {\n",
       "        vertical-align: top;\n",
       "    }\n",
       "\n",
       "    .dataframe thead th {\n",
       "        text-align: right;\n",
       "    }\n",
       "</style>\n",
       "<table border=\"1\" class=\"dataframe\">\n",
       "  <thead>\n",
       "    <tr style=\"text-align: right;\">\n",
       "      <th></th>\n",
       "      <th>userId</th>\n",
       "      <th>movieId</th>\n",
       "      <th>rating</th>\n",
       "      <th>timestamp</th>\n",
       "    </tr>\n",
       "  </thead>\n",
       "  <tbody>\n",
       "    <tr>\n",
       "      <th>0</th>\n",
       "      <td>1</td>\n",
       "      <td>31</td>\n",
       "      <td>2.5</td>\n",
       "      <td>1260759144</td>\n",
       "    </tr>\n",
       "    <tr>\n",
       "      <th>1</th>\n",
       "      <td>1</td>\n",
       "      <td>1029</td>\n",
       "      <td>3.0</td>\n",
       "      <td>1260759179</td>\n",
       "    </tr>\n",
       "    <tr>\n",
       "      <th>2</th>\n",
       "      <td>1</td>\n",
       "      <td>1061</td>\n",
       "      <td>3.0</td>\n",
       "      <td>1260759182</td>\n",
       "    </tr>\n",
       "    <tr>\n",
       "      <th>3</th>\n",
       "      <td>1</td>\n",
       "      <td>1129</td>\n",
       "      <td>2.0</td>\n",
       "      <td>1260759185</td>\n",
       "    </tr>\n",
       "    <tr>\n",
       "      <th>4</th>\n",
       "      <td>1</td>\n",
       "      <td>1172</td>\n",
       "      <td>4.0</td>\n",
       "      <td>1260759205</td>\n",
       "    </tr>\n",
       "  </tbody>\n",
       "</table>\n",
       "</div>"
      ],
      "text/plain": [
       "   userId  movieId  rating   timestamp\n",
       "0       1       31     2.5  1260759144\n",
       "1       1     1029     3.0  1260759179\n",
       "2       1     1061     3.0  1260759182\n",
       "3       1     1129     2.0  1260759185\n",
       "4       1     1172     4.0  1260759205"
      ]
     },
     "execution_count": 6,
     "metadata": {},
     "output_type": "execute_result"
    }
   ],
   "source": [
    "train.head()"
   ]
  },
  {
   "cell_type": "code",
   "execution_count": 7,
   "id": "8dac481f-c69c-4c4c-b400-a1768ae1f5bc",
   "metadata": {},
   "outputs": [],
   "source": [
    "df_orig = train.copy()"
   ]
  },
  {
   "cell_type": "code",
   "execution_count": 8,
   "id": "3c51e4e6-4af3-487d-a665-04b4be795583",
   "metadata": {},
   "outputs": [],
   "source": [
    "df = df_orig.copy()"
   ]
  },
  {
   "cell_type": "code",
   "execution_count": 16,
   "id": "c9072ba5-6a05-4c4d-b04f-7b75d84c3090",
   "metadata": {},
   "outputs": [],
   "source": [
    "# best seller for top 10\n",
    "top_items=df.groupby(by=[\"movieId\"])['timestamp'].count().sort_values(ascending=False)"
   ]
  },
  {
   "cell_type": "code",
   "execution_count": 18,
   "id": "bd26fc29-100a-4999-8b4f-0321e4c8a34e",
   "metadata": {},
   "outputs": [],
   "source": [
    "top10 = top_items.head(10)"
   ]
  },
  {
   "cell_type": "code",
   "execution_count": 27,
   "id": "c5526cb4-3ee2-4045-9f71-0e1349eabd93",
   "metadata": {},
   "outputs": [],
   "source": [
    "top10_movies = np.array(top10.index)"
   ]
  },
  {
   "cell_type": "code",
   "execution_count": 28,
   "id": "33284fdd-7362-4834-a0aa-ab0cdd9b01b4",
   "metadata": {},
   "outputs": [
    {
     "data": {
      "text/plain": [
       "array([ 356,  296,  318,  593,  260,  480, 2571,    1,  527,  589],\n",
       "      dtype=int64)"
      ]
     },
     "execution_count": 28,
     "metadata": {},
     "output_type": "execute_result"
    }
   ],
   "source": [
    "top10_movies"
   ]
  },
  {
   "cell_type": "code",
   "execution_count": 40,
   "id": "0a6dd77c-28f8-4017-86ae-3c645cc796ee",
   "metadata": {
    "tags": []
   },
   "outputs": [
    {
     "name": "stdout",
     "output_type": "stream",
     "text": [
      "The Hit Ratio @ 10 is 0.07\n"
     ]
    }
   ],
   "source": [
    "# Hit Rate@10\n",
    "# User-item pairs for testing\n",
    "# x_test1 = x_test[y_test['rating']==1]\n",
    "\n",
    "user_item_set = set(zip(df['userId'], df['movieId']))\n",
    "\n",
    "# Dict of all items that are interacted with by each user\n",
    "user_interacted_items = df.groupby('userId')['movieId'].apply(list).to_dict()\n",
    "\n",
    "userID = set(df['userId'])\n",
    "\n",
    "\n",
    "hits = []\n",
    "for u in userID:\n",
    "    for movie in user_interacted_items[u]:\n",
    "        if movie in top10_movies:\n",
    "            hits.append(1)\n",
    "            break\n",
    "        else:\n",
    "            hits.append(0)\n",
    "           \n",
    "print(\"The Hit Ratio @ 10 is {:.2f}\".format(np.average(hits)))"
   ]
  },
  {
   "cell_type": "code",
   "execution_count": null,
   "id": "df1d7470-70ba-4a3a-a713-7073df79bee6",
   "metadata": {},
   "outputs": [],
   "source": []
  }
 ],
 "metadata": {
  "kernelspec": {
   "display_name": "Python 3 (ipykernel)",
   "language": "python",
   "name": "python3"
  },
  "language_info": {
   "codemirror_mode": {
    "name": "ipython",
    "version": 3
   },
   "file_extension": ".py",
   "mimetype": "text/x-python",
   "name": "python",
   "nbconvert_exporter": "python",
   "pygments_lexer": "ipython3",
   "version": "3.8.12"
  }
 },
 "nbformat": 4,
 "nbformat_minor": 5
}
