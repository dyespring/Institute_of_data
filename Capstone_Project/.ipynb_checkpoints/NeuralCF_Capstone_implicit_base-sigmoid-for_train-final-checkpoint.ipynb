{
 "cells": [
  {
   "cell_type": "code",
   "execution_count": 1,
   "id": "282df20b-c621-4682-8b70-5d00d8dc241f",
   "metadata": {},
   "outputs": [],
   "source": [
    "# Ignore  the warnings\n",
    "import warnings\n",
    "warnings.filterwarnings('always')\n",
    "warnings.filterwarnings('ignore')\n",
    "\n",
    "# data visualisation and manipulation\n",
    "import numpy as np\n",
    "import pandas as pd\n",
    "import matplotlib.pyplot as plt\n",
    "from matplotlib import style\n",
    "import seaborn as sns\n",
    "\n",
    "#configure\n",
    "# sets matplotlib to inline and displays graphs below the corressponding cell.\n",
    "%matplotlib inline  \n",
    "style.use('fivethirtyeight')\n",
    "sns.set(style='whitegrid',color_codes=True)"
   ]
  },
  {
   "cell_type": "code",
   "execution_count": 2,
   "id": "f54c6ae2-8320-46e9-90cc-5d76b5f1f9ec",
   "metadata": {},
   "outputs": [],
   "source": [
    "#model selection\n",
    "from sklearn.model_selection import train_test_split\n",
    "from sklearn.model_selection import KFold\n",
    "from sklearn.metrics import accuracy_score,precision_score,recall_score,confusion_matrix,roc_curve,roc_auc_score\n",
    "from sklearn.metrics import mean_absolute_error\n",
    "from sklearn.model_selection import GridSearchCV\n",
    "from sklearn.preprocessing import LabelEncoder\n",
    "\n",
    "#dl libraraies\n",
    "import keras\n",
    "from keras import backend as K\n",
    "from keras.models import Sequential\n",
    "from keras.layers import Dense , merge\n",
    "from keras.optimizers import Adam,SGD,Adagrad,Adadelta,RMSprop\n",
    "from keras.utils import to_categorical\n",
    "from keras.utils.vis_utils import model_to_dot\n",
    "from keras.callbacks import ReduceLROnPlateau\n",
    "\n",
    "from keras.layers.merge import dot\n",
    "from keras.models import Model"
   ]
  },
  {
   "cell_type": "code",
   "execution_count": 3,
   "id": "496f2911-f66f-478d-93e3-50addafb4bc7",
   "metadata": {},
   "outputs": [],
   "source": [
    "# specifically for deeplearning.\n",
    "from keras.layers import Dropout, Flatten,Activation,Input,Embedding\n",
    "from keras.layers import Conv2D, MaxPooling2D, BatchNormalization\n",
    "import tensorflow as tf\n",
    "import random as rn\n",
    "from IPython.display import SVG"
   ]
  },
  {
   "cell_type": "code",
   "execution_count": 4,
   "id": "226a1609-8d70-45e3-835b-743faaa75e25",
   "metadata": {},
   "outputs": [],
   "source": [
    "np.random.seed(123)"
   ]
  },
  {
   "cell_type": "code",
   "execution_count": 5,
   "id": "adf5857e-bda2-4161-99bc-c7fc55553555",
   "metadata": {},
   "outputs": [],
   "source": [
    "# Reading the CSV file\n",
    "train=pd.read_csv('../DATA/ratings_small.csv')"
   ]
  },
  {
   "cell_type": "code",
   "execution_count": 6,
   "id": "650cba78-a5c1-489c-ae24-cc293a0ab897",
   "metadata": {},
   "outputs": [
    {
     "data": {
      "text/html": [
       "<div>\n",
       "<style scoped>\n",
       "    .dataframe tbody tr th:only-of-type {\n",
       "        vertical-align: middle;\n",
       "    }\n",
       "\n",
       "    .dataframe tbody tr th {\n",
       "        vertical-align: top;\n",
       "    }\n",
       "\n",
       "    .dataframe thead th {\n",
       "        text-align: right;\n",
       "    }\n",
       "</style>\n",
       "<table border=\"1\" class=\"dataframe\">\n",
       "  <thead>\n",
       "    <tr style=\"text-align: right;\">\n",
       "      <th></th>\n",
       "      <th>userId</th>\n",
       "      <th>movieId</th>\n",
       "      <th>rating</th>\n",
       "      <th>timestamp</th>\n",
       "    </tr>\n",
       "  </thead>\n",
       "  <tbody>\n",
       "    <tr>\n",
       "      <th>0</th>\n",
       "      <td>1</td>\n",
       "      <td>31</td>\n",
       "      <td>2.5</td>\n",
       "      <td>1260759144</td>\n",
       "    </tr>\n",
       "    <tr>\n",
       "      <th>1</th>\n",
       "      <td>1</td>\n",
       "      <td>1029</td>\n",
       "      <td>3.0</td>\n",
       "      <td>1260759179</td>\n",
       "    </tr>\n",
       "    <tr>\n",
       "      <th>2</th>\n",
       "      <td>1</td>\n",
       "      <td>1061</td>\n",
       "      <td>3.0</td>\n",
       "      <td>1260759182</td>\n",
       "    </tr>\n",
       "    <tr>\n",
       "      <th>3</th>\n",
       "      <td>1</td>\n",
       "      <td>1129</td>\n",
       "      <td>2.0</td>\n",
       "      <td>1260759185</td>\n",
       "    </tr>\n",
       "    <tr>\n",
       "      <th>4</th>\n",
       "      <td>1</td>\n",
       "      <td>1172</td>\n",
       "      <td>4.0</td>\n",
       "      <td>1260759205</td>\n",
       "    </tr>\n",
       "  </tbody>\n",
       "</table>\n",
       "</div>"
      ],
      "text/plain": [
       "   userId  movieId  rating   timestamp\n",
       "0       1       31     2.5  1260759144\n",
       "1       1     1029     3.0  1260759179\n",
       "2       1     1061     3.0  1260759182\n",
       "3       1     1129     2.0  1260759185\n",
       "4       1     1172     4.0  1260759205"
      ]
     },
     "execution_count": 6,
     "metadata": {},
     "output_type": "execute_result"
    }
   ],
   "source": [
    "train.head()"
   ]
  },
  {
   "cell_type": "code",
   "execution_count": 7,
   "id": "8dac481f-c69c-4c4c-b400-a1768ae1f5bc",
   "metadata": {},
   "outputs": [],
   "source": [
    "df_orig = train.copy()"
   ]
  },
  {
   "cell_type": "code",
   "execution_count": 8,
   "id": "3c51e4e6-4af3-487d-a665-04b4be795583",
   "metadata": {},
   "outputs": [],
   "source": [
    "df = df_orig.copy()"
   ]
  },
  {
   "cell_type": "code",
   "execution_count": 9,
   "id": "d68046f7-bf42-459c-97d4-aba1034dd263",
   "metadata": {},
   "outputs": [],
   "source": [
    "# change all the ratings to 1\n",
    "df['rating']=1"
   ]
  },
  {
   "cell_type": "code",
   "execution_count": 10,
   "id": "96368c99-9453-407e-afec-da3964d2af9d",
   "metadata": {},
   "outputs": [
    {
     "data": {
      "text/html": [
       "<div>\n",
       "<style scoped>\n",
       "    .dataframe tbody tr th:only-of-type {\n",
       "        vertical-align: middle;\n",
       "    }\n",
       "\n",
       "    .dataframe tbody tr th {\n",
       "        vertical-align: top;\n",
       "    }\n",
       "\n",
       "    .dataframe thead th {\n",
       "        text-align: right;\n",
       "    }\n",
       "</style>\n",
       "<table border=\"1\" class=\"dataframe\">\n",
       "  <thead>\n",
       "    <tr style=\"text-align: right;\">\n",
       "      <th></th>\n",
       "      <th>userId</th>\n",
       "      <th>movieId</th>\n",
       "      <th>rating</th>\n",
       "      <th>timestamp</th>\n",
       "    </tr>\n",
       "  </thead>\n",
       "  <tbody>\n",
       "    <tr>\n",
       "      <th>0</th>\n",
       "      <td>1</td>\n",
       "      <td>31</td>\n",
       "      <td>1</td>\n",
       "      <td>1260759144</td>\n",
       "    </tr>\n",
       "    <tr>\n",
       "      <th>1</th>\n",
       "      <td>1</td>\n",
       "      <td>1029</td>\n",
       "      <td>1</td>\n",
       "      <td>1260759179</td>\n",
       "    </tr>\n",
       "    <tr>\n",
       "      <th>2</th>\n",
       "      <td>1</td>\n",
       "      <td>1061</td>\n",
       "      <td>1</td>\n",
       "      <td>1260759182</td>\n",
       "    </tr>\n",
       "    <tr>\n",
       "      <th>3</th>\n",
       "      <td>1</td>\n",
       "      <td>1129</td>\n",
       "      <td>1</td>\n",
       "      <td>1260759185</td>\n",
       "    </tr>\n",
       "    <tr>\n",
       "      <th>4</th>\n",
       "      <td>1</td>\n",
       "      <td>1172</td>\n",
       "      <td>1</td>\n",
       "      <td>1260759205</td>\n",
       "    </tr>\n",
       "    <tr>\n",
       "      <th>...</th>\n",
       "      <td>...</td>\n",
       "      <td>...</td>\n",
       "      <td>...</td>\n",
       "      <td>...</td>\n",
       "    </tr>\n",
       "    <tr>\n",
       "      <th>99999</th>\n",
       "      <td>671</td>\n",
       "      <td>6268</td>\n",
       "      <td>1</td>\n",
       "      <td>1065579370</td>\n",
       "    </tr>\n",
       "    <tr>\n",
       "      <th>100000</th>\n",
       "      <td>671</td>\n",
       "      <td>6269</td>\n",
       "      <td>1</td>\n",
       "      <td>1065149201</td>\n",
       "    </tr>\n",
       "    <tr>\n",
       "      <th>100001</th>\n",
       "      <td>671</td>\n",
       "      <td>6365</td>\n",
       "      <td>1</td>\n",
       "      <td>1070940363</td>\n",
       "    </tr>\n",
       "    <tr>\n",
       "      <th>100002</th>\n",
       "      <td>671</td>\n",
       "      <td>6385</td>\n",
       "      <td>1</td>\n",
       "      <td>1070979663</td>\n",
       "    </tr>\n",
       "    <tr>\n",
       "      <th>100003</th>\n",
       "      <td>671</td>\n",
       "      <td>6565</td>\n",
       "      <td>1</td>\n",
       "      <td>1074784724</td>\n",
       "    </tr>\n",
       "  </tbody>\n",
       "</table>\n",
       "<p>100004 rows × 4 columns</p>\n",
       "</div>"
      ],
      "text/plain": [
       "        userId  movieId  rating   timestamp\n",
       "0            1       31       1  1260759144\n",
       "1            1     1029       1  1260759179\n",
       "2            1     1061       1  1260759182\n",
       "3            1     1129       1  1260759185\n",
       "4            1     1172       1  1260759205\n",
       "...        ...      ...     ...         ...\n",
       "99999      671     6268       1  1065579370\n",
       "100000     671     6269       1  1065149201\n",
       "100001     671     6365       1  1070940363\n",
       "100002     671     6385       1  1070979663\n",
       "100003     671     6565       1  1074784724\n",
       "\n",
       "[100004 rows x 4 columns]"
      ]
     },
     "execution_count": 10,
     "metadata": {},
     "output_type": "execute_result"
    }
   ],
   "source": [
    "df"
   ]
  },
  {
   "cell_type": "code",
   "execution_count": 11,
   "id": "69205a15-986a-4502-a8d4-ffb48af4f394",
   "metadata": {},
   "outputs": [],
   "source": [
    "# fill negative rating\n",
    "# Get a list of all movie IDs\n",
    "all_movieIds = df['movieId'].unique()\n",
    "\n",
    "def fill_negative_rating(df):\n",
    "# Placeholders that will hold the training data\n",
    "    users, items, ratings = [], [], []\n",
    "\n",
    "# This is the set of items that each user has interaction with\n",
    "    user_item_set = set(zip(df['userId'],df['movieId']))\n",
    "\n",
    "# 4:1 ratio of negative to positive samples\n",
    "    num_negatives = 3\n",
    "\n",
    "    for (u, i) in user_item_set:\n",
    "        users.append(u)\n",
    "        items.append(i)\n",
    "        ratings.append(1) # items that the user has interacted with are positive\n",
    "        for _ in range(num_negatives):\n",
    "            # randomly select an item\n",
    "            negative_item = np.random.choice(all_movieIds) \n",
    "        # check that the user has not interacted with this item\n",
    "            while (u, negative_item) in user_item_set:\n",
    "                negative_item = np.random.choice(all_movieIds)\n",
    "            users.append(u)\n",
    "            items.append(negative_item)\n",
    "            ratings.append(0) # items not interacted with are negative\n",
    "    df_new = pd.DataFrame(list(zip(users, items,ratings)),columns =['userId', 'movieId','rating'])\n",
    "    return df_new"
   ]
  },
  {
   "cell_type": "code",
   "execution_count": 12,
   "id": "973bc495-ff3b-4e7d-8cbd-cce0cbbaea36",
   "metadata": {},
   "outputs": [],
   "source": [
    "df = fill_negative_rating(df)"
   ]
  },
  {
   "cell_type": "code",
   "execution_count": 13,
   "id": "766c260a-09eb-4e3c-bf28-5250757d23fc",
   "metadata": {},
   "outputs": [],
   "source": [
    "df.userId = df.userId.astype('category').cat.codes.values\n",
    "df.movieId = df.movieId.astype('category').cat.codes.values\n",
    "\n",
    "users = df.userId.unique()\n",
    "movies = df.movieId.unique()\n",
    "\n",
    "userid2idx = {o:i for i,o in enumerate(users)}\n",
    "movieid2idx = {o:i for i,o in enumerate(movies)}\n",
    "\n",
    "df['userId'] = df['userId'].apply(lambda x: userid2idx[x])\n",
    "df['movieId'] = df['movieId'].apply(lambda x: movieid2idx[x])"
   ]
  },
  {
   "cell_type": "code",
   "execution_count": 14,
   "id": "99b3bff0-e6fe-4af1-bbfb-e2be46534209",
   "metadata": {},
   "outputs": [],
   "source": [
    "x_train,x_test,y_train,y_test=train_test_split(df[['userId','movieId']],df[['rating']],test_size=0.20,random_state=42)"
   ]
  },
  {
   "cell_type": "code",
   "execution_count": 15,
   "id": "3a57337b-4eb5-49e1-86f5-860bb1164a38",
   "metadata": {},
   "outputs": [],
   "source": [
    "# Creating the Embeddings ,Merging and Making the Model from Embeddings\n",
    "n_movies=len(df['movieId'].unique())\n",
    "n_users=len(df['userId'].unique())\n",
    "n_latent_factors=64  # hyperparamter to deal with"
   ]
  },
  {
   "cell_type": "code",
   "execution_count": 16,
   "id": "d70363d5-b545-464e-9a93-11ae77f97bd9",
   "metadata": {},
   "outputs": [],
   "source": [
    "user_input=Input(shape=(1,),name='user_input',dtype='int64')"
   ]
  },
  {
   "cell_type": "code",
   "execution_count": 17,
   "id": "1a2fcc41-c7f6-4014-bc25-559ebd3fd7cb",
   "metadata": {},
   "outputs": [],
   "source": [
    "user_embedding_mf=Embedding(n_users,n_latent_factors,name='user_embedding')(user_input)\n",
    "user_vec_mf =Flatten(name='FlattenUsers')(user_embedding_mf)\n",
    "#user_vec.shape\n",
    "#user_embedding.shape"
   ]
  },
  {
   "cell_type": "code",
   "execution_count": 18,
   "id": "9304969b-bafb-4a5c-849b-107e931c202d",
   "metadata": {},
   "outputs": [],
   "source": [
    "movie_input=Input(shape=(1,),name='movie_input',dtype='int64')\n",
    "movie_embedding_mf=Embedding(n_movies,n_latent_factors,name='movie_embedding')(movie_input)\n",
    "movie_vec_mf=Flatten(name='FlattenMovies')(movie_embedding_mf)\n",
    "#movie_vec"
   ]
  },
  {
   "cell_type": "code",
   "execution_count": 19,
   "id": "42ded899-ae56-4f1f-9143-94a2f296bb79",
   "metadata": {},
   "outputs": [],
   "source": [
    "mf_out=dot([user_vec_mf,movie_vec_mf],name='Simalarity-Dot-Product',axes=1)\n",
    "# mf_prediction = Dense(1, activation='sigmoid',name = \"mf_prediction\")(sim)\n",
    "# mf_model =keras.models.Model([user_input, movie_input],sim)\n",
    "# mf_model.summary()\n",
    "# # A summary of the model is shown below-->"
   ]
  },
  {
   "cell_type": "code",
   "execution_count": 20,
   "id": "c602bea1-a932-4db9-aa9b-12666ec1a762",
   "metadata": {},
   "outputs": [],
   "source": [
    "# mf_model.compile(optimizer=Adam(lr=1e-4),loss='mse',metrics='accuracy')"
   ]
  },
  {
   "cell_type": "code",
   "execution_count": 21,
   "id": "beee385e-b0e0-4cd4-97a1-d7a1882b6026",
   "metadata": {},
   "outputs": [],
   "source": [
    "# # train.shape\n",
    "# batch_size=128\n",
    "# epochs=10"
   ]
  },
  {
   "cell_type": "code",
   "execution_count": 22,
   "id": "7a9ca823-e9c4-411c-b0bc-6c1874a467e5",
   "metadata": {
    "tags": []
   },
   "outputs": [],
   "source": [
    "# # Fitting on Training set & Validating on Validation Set.\n",
    "# mf_History = mf_model.fit([x_train.userId,x_train.movieId],y_train.rating, batch_size=batch_size,\n",
    "#                               epochs =epochs, validation_data = ([x_test.userId,x_test.movieId],y_test.rating),\n",
    "#                               verbose = 1)"
   ]
  },
  {
   "cell_type": "code",
   "execution_count": 23,
   "id": "5e6f8796-8877-4f31-adb6-facd894d2dc7",
   "metadata": {
    "tags": []
   },
   "outputs": [],
   "source": [
    "# import matplotlib.pyplot as plt\n",
    "# plt.plot(mf_History.history['loss'] , 'g')\n",
    "# plt.plot(mf_History.history['val_loss'] , 'b')\n",
    "# plt.title('mf_model loss')\n",
    "# plt.ylabel('loss')\n",
    "# plt.xlabel('epoch')\n",
    "# plt.legend(['train', 'test'], loc='upper right')\n",
    "# plt.grid(True)\n",
    "# plt.show()"
   ]
  },
  {
   "cell_type": "code",
   "execution_count": 24,
   "id": "d56aba76-ddf2-4d07-a595-0935486e3739",
   "metadata": {},
   "outputs": [],
   "source": [
    "# user_vec_nn\n",
    "user_embedding_nn=Embedding(n_users,n_latent_factors,name='nn_user_embedding')(user_input)\n",
    "user_vec_nn=Flatten(name='nn_FlattenUsers')(user_embedding_nn)\n",
    "# user_vec=Dropout(0.40)(user_vec)\n",
    "movie_embedding_nn=Embedding(n_movies,n_latent_factors,name='nn_movie_embedding')(movie_input)\n",
    "movie_vec_nn=Flatten(name='nn_FlattenMovies')(movie_embedding_nn)\n",
    "# movie_vec=Dropout(0.40)(movie_vec)\n",
    "# Concatenate the embeddings (and remove the useless extra dimension)\n",
    "concatenated = keras.layers.Concatenate()([user_vec_nn, movie_vec_nn])\n",
    "out1 = keras.layers.Flatten()(concatenated)\n",
    "\n",
    "# Specifying the Model architecture\n",
    "nn_inp=Dense(48,activation='relu')(out1)\n",
    "# nn_inp=Dropout(0.4)(nn_inp)\n",
    "# nn_inp=BatchNormalization()(nn_inp)\n",
    "nn_inp=Dense(32,activation='relu')(nn_inp)\n",
    "nn_inp=Dense(24,activation='relu')(nn_inp)\n",
    "nn_inp=Dense(16,activation='relu')(nn_inp)\n",
    "nn_inp=Dense(4,activation='relu')(nn_inp)\n",
    "# nn_inp=Dropout(0.4)(nn_inp)\n",
    "nn_out=Dense(1,activation='relu')(nn_inp)"
   ]
  },
  {
   "cell_type": "code",
   "execution_count": 25,
   "id": "dd873879-4b34-43c1-8c70-b025c89f06b9",
   "metadata": {},
   "outputs": [],
   "source": [
    "# Concatenate MF and MLP parts\n",
    "mf_nn_out_concat = keras.layers.Concatenate()([mf_out, nn_out])\n",
    "# mf_nn_out_concat = keras.layers.Flatten()(mf_nn_out_concat)\n",
    "# Final prediction layer\n",
    "mf_nn_prediction = Dense(1, activation='sigmoid',name = \"mf_nn_prediction\")(mf_nn_out_concat)"
   ]
  },
  {
   "cell_type": "code",
   "execution_count": 26,
   "id": "fa394615-0211-4a0c-b454-452d129ccc00",
   "metadata": {},
   "outputs": [],
   "source": [
    "combined_model =keras.models.Model([user_input, movie_input],mf_nn_prediction)"
   ]
  },
  {
   "cell_type": "code",
   "execution_count": 27,
   "id": "992ef018-ae72-4a8c-aa5a-6656da59c7a7",
   "metadata": {},
   "outputs": [],
   "source": [
    "combined_model.compile(optimizer=Adam(lr=1e-4),loss='binary_crossentropy',metrics='accuracy')"
   ]
  },
  {
   "cell_type": "code",
   "execution_count": 28,
   "id": "ec4f022e-d1cc-4af6-a8a9-d80a8d29a0b3",
   "metadata": {},
   "outputs": [
    {
     "name": "stdout",
     "output_type": "stream",
     "text": [
      "Model: \"functional_1\"\n",
      "__________________________________________________________________________________________________\n",
      "Layer (type)                    Output Shape         Param #     Connected to                     \n",
      "==================================================================================================\n",
      "user_input (InputLayer)         [(None, 1)]          0                                            \n",
      "__________________________________________________________________________________________________\n",
      "movie_input (InputLayer)        [(None, 1)]          0                                            \n",
      "__________________________________________________________________________________________________\n",
      "nn_user_embedding (Embedding)   (None, 1, 64)        42944       user_input[0][0]                 \n",
      "__________________________________________________________________________________________________\n",
      "nn_movie_embedding (Embedding)  (None, 1, 64)        580224      movie_input[0][0]                \n",
      "__________________________________________________________________________________________________\n",
      "nn_FlattenUsers (Flatten)       (None, 64)           0           nn_user_embedding[0][0]          \n",
      "__________________________________________________________________________________________________\n",
      "nn_FlattenMovies (Flatten)      (None, 64)           0           nn_movie_embedding[0][0]         \n",
      "__________________________________________________________________________________________________\n",
      "concatenate (Concatenate)       (None, 128)          0           nn_FlattenUsers[0][0]            \n",
      "                                                                 nn_FlattenMovies[0][0]           \n",
      "__________________________________________________________________________________________________\n",
      "flatten (Flatten)               (None, 128)          0           concatenate[0][0]                \n",
      "__________________________________________________________________________________________________\n",
      "dense (Dense)                   (None, 48)           6192        flatten[0][0]                    \n",
      "__________________________________________________________________________________________________\n",
      "dense_1 (Dense)                 (None, 32)           1568        dense[0][0]                      \n",
      "__________________________________________________________________________________________________\n",
      "dense_2 (Dense)                 (None, 24)           792         dense_1[0][0]                    \n",
      "__________________________________________________________________________________________________\n",
      "user_embedding (Embedding)      (None, 1, 64)        42944       user_input[0][0]                 \n",
      "__________________________________________________________________________________________________\n",
      "movie_embedding (Embedding)     (None, 1, 64)        580224      movie_input[0][0]                \n",
      "__________________________________________________________________________________________________\n",
      "dense_3 (Dense)                 (None, 16)           400         dense_2[0][0]                    \n",
      "__________________________________________________________________________________________________\n",
      "FlattenUsers (Flatten)          (None, 64)           0           user_embedding[0][0]             \n",
      "__________________________________________________________________________________________________\n",
      "FlattenMovies (Flatten)         (None, 64)           0           movie_embedding[0][0]            \n",
      "__________________________________________________________________________________________________\n",
      "dense_4 (Dense)                 (None, 4)            68          dense_3[0][0]                    \n",
      "__________________________________________________________________________________________________\n",
      "Simalarity-Dot-Product (Dot)    (None, 1)            0           FlattenUsers[0][0]               \n",
      "                                                                 FlattenMovies[0][0]              \n",
      "__________________________________________________________________________________________________\n",
      "dense_5 (Dense)                 (None, 1)            5           dense_4[0][0]                    \n",
      "__________________________________________________________________________________________________\n",
      "concatenate_1 (Concatenate)     (None, 2)            0           Simalarity-Dot-Product[0][0]     \n",
      "                                                                 dense_5[0][0]                    \n",
      "__________________________________________________________________________________________________\n",
      "mf_nn_prediction (Dense)        (None, 1)            3           concatenate_1[0][0]              \n",
      "==================================================================================================\n",
      "Total params: 1,255,364\n",
      "Trainable params: 1,255,364\n",
      "Non-trainable params: 0\n",
      "__________________________________________________________________________________________________\n"
     ]
    }
   ],
   "source": [
    "combined_model.summary()"
   ]
  },
  {
   "cell_type": "code",
   "execution_count": 29,
   "id": "212e54dc-00a4-4046-b1c8-2e35a639611d",
   "metadata": {},
   "outputs": [],
   "source": [
    "batch_size=128\n",
    "epochs=20"
   ]
  },
  {
   "cell_type": "code",
   "execution_count": 30,
   "id": "b84c3ef6-958c-4c99-a39a-07c8d0914678",
   "metadata": {},
   "outputs": [
    {
     "name": "stdout",
     "output_type": "stream",
     "text": [
      "Epoch 1/20\n",
      "2501/2501 [==============================] - 49s 20ms/step - loss: 0.4673 - accuracy: 0.7863 - val_loss: 0.4025 - val_accuracy: 0.8371\n",
      "Epoch 2/20\n",
      "2501/2501 [==============================] - 48s 19ms/step - loss: 0.3842 - accuracy: 0.8398 - val_loss: 0.3974 - val_accuracy: 0.8375\n",
      "Epoch 3/20\n",
      "2501/2501 [==============================] - 45s 18ms/step - loss: 0.3708 - accuracy: 0.8427 - val_loss: 0.3958 - val_accuracy: 0.8388\n",
      "Epoch 4/20\n",
      "2501/2501 [==============================] - 45s 18ms/step - loss: 0.3592 - accuracy: 0.8459 - val_loss: 0.3926 - val_accuracy: 0.8405\n",
      "Epoch 5/20\n",
      "2501/2501 [==============================] - 42s 17ms/step - loss: 0.3453 - accuracy: 0.8503 - val_loss: 0.3869 - val_accuracy: 0.8430\n",
      "Epoch 6/20\n",
      "2501/2501 [==============================] - 42s 17ms/step - loss: 0.3276 - accuracy: 0.8566 - val_loss: 0.3831 - val_accuracy: 0.8464\n",
      "Epoch 7/20\n",
      "2501/2501 [==============================] - 42s 17ms/step - loss: 0.3064 - accuracy: 0.8660 - val_loss: 0.3758 - val_accuracy: 0.8508\n",
      "Epoch 8/20\n",
      "2501/2501 [==============================] - 41s 17ms/step - loss: 0.2831 - accuracy: 0.8782 - val_loss: 0.3664 - val_accuracy: 0.8555\n",
      "Epoch 9/20\n",
      "2501/2501 [==============================] - 42s 17ms/step - loss: 0.2590 - accuracy: 0.8904 - val_loss: 0.3587 - val_accuracy: 0.8585\n",
      "Epoch 10/20\n",
      "2501/2501 [==============================] - 44s 18ms/step - loss: 0.2351 - accuracy: 0.9026 - val_loss: 0.3567 - val_accuracy: 0.8616\n",
      "Epoch 11/20\n",
      "2501/2501 [==============================] - 44s 17ms/step - loss: 0.2116 - accuracy: 0.9159 - val_loss: 0.3578 - val_accuracy: 0.8644\n",
      "Epoch 12/20\n",
      "2501/2501 [==============================] - 42s 17ms/step - loss: 0.1889 - accuracy: 0.9281 - val_loss: 0.3572 - val_accuracy: 0.8656\n",
      "Epoch 13/20\n",
      "2501/2501 [==============================] - 42s 17ms/step - loss: 0.1671 - accuracy: 0.9396 - val_loss: 0.3662 - val_accuracy: 0.8668\n",
      "Epoch 14/20\n",
      "2501/2501 [==============================] - 42s 17ms/step - loss: 0.1466 - accuracy: 0.9492 - val_loss: 0.3665 - val_accuracy: 0.8673\n",
      "Epoch 15/20\n",
      "2501/2501 [==============================] - 42s 17ms/step - loss: 0.1274 - accuracy: 0.9580 - val_loss: 0.3910 - val_accuracy: 0.8669\n",
      "Epoch 16/20\n",
      "2501/2501 [==============================] - 42s 17ms/step - loss: 0.1100 - accuracy: 0.9653 - val_loss: 0.3919 - val_accuracy: 0.8644\n",
      "Epoch 17/20\n",
      "2501/2501 [==============================] - 42s 17ms/step - loss: 0.0940 - accuracy: 0.9717 - val_loss: 0.4175 - val_accuracy: 0.8644\n",
      "Epoch 18/20\n",
      "2501/2501 [==============================] - 42s 17ms/step - loss: 0.0797 - accuracy: 0.9772 - val_loss: 0.4377 - val_accuracy: 0.8643\n",
      "Epoch 19/20\n",
      "2501/2501 [==============================] - 42s 17ms/step - loss: 0.0671 - accuracy: 0.9818 - val_loss: 0.4636 - val_accuracy: 0.8646\n",
      "Epoch 20/20\n",
      "2501/2501 [==============================] - 42s 17ms/step - loss: 0.0559 - accuracy: 0.9858 - val_loss: 0.4831 - val_accuracy: 0.8616\n"
     ]
    }
   ],
   "source": [
    "combined_History = combined_model.fit([x_train.userId,x_train.movieId],y_train.rating, batch_size=batch_size,\n",
    "                                  epochs =epochs, validation_data = ([x_test.userId,x_test.movieId],y_test.rating),\n",
    "                                  verbose = 1)"
   ]
  },
  {
   "cell_type": "code",
   "execution_count": 31,
   "id": "37f2d3d5-1c33-4aa4-8223-c66edfec2ae8",
   "metadata": {},
   "outputs": [
    {
     "data": {
      "image/png": "[encoded data removed]",
      "text/plain": [
       "<Figure size 432x288 with 1 Axes>"
      ]
     },
     "metadata": {},
     "output_type": "display_data"
    }
   ],
   "source": [
    "plt.plot(combined_History.history['loss'] , 'g')\n",
    "plt.plot(combined_History.history['val_loss'] , 'b')\n",
    "# plt.plot(combined_History.history['val_loss'] , 'b')\n",
    "plt.title('combined_model loss')\n",
    "plt.ylabel('loss')\n",
    "plt.xlabel('epoch')\n",
    "plt.legend(['train', 'test'], loc='upper right')\n",
    "plt.grid(True)\n",
    "plt.show()"
   ]
  },
  {
   "cell_type": "code",
   "execution_count": 32,
   "id": "c1731c5c-d708-4879-be1f-0066b2de4aa6",
   "metadata": {},
   "outputs": [
    {
     "data": {
      "image/png": "[encoded data removed]",
      "text/plain": [
       "<Figure size 432x288 with 1 Axes>"
      ]
     },
     "metadata": {},
     "output_type": "display_data"
    }
   ],
   "source": [
    "plt.plot(combined_History.history['accuracy'] , 'g')\n",
    "plt.plot(combined_History.history['val_accuracy'] , 'b')\n",
    "# plt.plot(combined_History.history['val_loss'] , 'b')\n",
    "plt.title('combined_model accuracy')\n",
    "plt.ylabel('loss')\n",
    "plt.xlabel('epoch')\n",
    "plt.legend(['train', 'test'], loc='upper left')\n",
    "plt.grid(True)\n",
    "plt.show()"
   ]
  },
  {
   "cell_type": "code",
   "execution_count": 33,
   "id": "0a6dd77c-28f8-4017-86ae-3c645cc796ee",
   "metadata": {
    "tags": []
   },
   "outputs": [
    {
     "name": "stdout",
     "output_type": "stream",
     "text": [
      "The Hit Ratio @ 10 is 0.69\n"
     ]
    }
   ],
   "source": [
    "# Hit Rate@10\n",
    "# User-item pairs for testing\n",
    "x_test1 = x_test[y_test['rating']==1]\n",
    "\n",
    "test_user_item_set = set(zip(x_test1['userId'], x_test1['movieId']))\n",
    "\n",
    "# Dict of all items that are interacted with by each user\n",
    "user_interacted_items = df.groupby('userId')['movieId'].apply(list).to_dict()\n",
    "\n",
    "# all movie item\n",
    "all_movieIds = df['movieId'].unique()\n",
    "\n",
    "\n",
    "hits = []\n",
    "for (u,i) in test_user_item_set:\n",
    "    interacted_items = user_interacted_items[u]\n",
    "    not_interacted_items = set(all_movieIds) - set(interacted_items)\n",
    "    selected_not_interacted = list(np.random.choice(list(not_interacted_items), 99))\n",
    "    test_items = selected_not_interacted + [i]\n",
    "    \n",
    "    predicted_ratings = np.squeeze(combined_model.predict([np.array([u]*100),np.array(test_items)]))\n",
    "    \n",
    "    top10_items = [test_items[i] for i in np.argsort(predicted_ratings)[::-1][0:10].tolist()]\n",
    "    \n",
    "    if i in top10_items:\n",
    "        hits.append(1)\n",
    "    else:\n",
    "        hits.append(0)\n",
    "        \n",
    "print(\"The Hit Ratio @ 10 is {:.2f}\".format(np.average(hits)))"
   ]
  },
  {
   "cell_type": "code",
   "execution_count": null,
   "id": "1b5947dc-fc41-4b38-ab44-f07fc3b5a412",
   "metadata": {},
   "outputs": [],
   "source": []
  }
 ],
 "metadata": {
  "kernelspec": {
   "display_name": "Python 3 (ipykernel)",
   "language": "python",
   "name": "python3"
  },
  "language_info": {
   "codemirror_mode": {
    "name": "ipython",
    "version": 3
   },
   "file_extension": ".py",
   "mimetype": "text/x-python",
   "name": "python",
   "nbconvert_exporter": "python",
   "pygments_lexer": "ipython3",
   "version": "3.8.12"
  }
 },
 "nbformat": 4,
 "nbformat_minor": 5
}
