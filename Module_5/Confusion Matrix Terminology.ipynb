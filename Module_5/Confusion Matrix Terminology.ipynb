{
 "cells": [
  {
   "cell_type": "code",
   "execution_count": 17,
   "id": "43a27b4d-d8cb-4db5-898c-e118341bcaae",
   "metadata": {},
   "outputs": [],
   "source": [
    "import pandas as pd"
   ]
  },
  {
   "cell_type": "code",
   "execution_count": 19,
   "id": "59a76e07-1aeb-4c37-836e-316859010a56",
   "metadata": {},
   "outputs": [
    {
     "data": {
      "text/html": [
       "<div>\n",
       "<style scoped>\n",
       "    .dataframe tbody tr th:only-of-type {\n",
       "        vertical-align: middle;\n",
       "    }\n",
       "\n",
       "    .dataframe tbody tr th {\n",
       "        vertical-align: top;\n",
       "    }\n",
       "\n",
       "    .dataframe thead th {\n",
       "        text-align: right;\n",
       "    }\n",
       "</style>\n",
       "<table border=\"1\" class=\"dataframe\">\n",
       "  <thead>\n",
       "    <tr style=\"text-align: right;\">\n",
       "      <th></th>\n",
       "      <th>n=165</th>\n",
       "      <th>Predicted No</th>\n",
       "      <th>Predicted yes</th>\n",
       "    </tr>\n",
       "  </thead>\n",
       "  <tbody>\n",
       "    <tr>\n",
       "      <th>0</th>\n",
       "      <td>Actual No</td>\n",
       "      <td>50</td>\n",
       "      <td>10</td>\n",
       "    </tr>\n",
       "    <tr>\n",
       "      <th>1</th>\n",
       "      <td>Actual yes</td>\n",
       "      <td>5</td>\n",
       "      <td>100</td>\n",
       "    </tr>\n",
       "  </tbody>\n",
       "</table>\n",
       "</div>"
      ],
      "text/plain": [
       "        n=165  Predicted No  Predicted yes\n",
       "0   Actual No            50             10\n",
       "1  Actual yes             5            100"
      ]
     },
     "execution_count": 19,
     "metadata": {},
     "output_type": "execute_result"
    }
   ],
   "source": [
    "cm = {'n=165':['Actual No','Actual yes'],\n",
    "     'Predicted No':[50,5],\n",
    "     'Predicted yes':[10,100]}\n",
    "\n",
    "df = pd.DataFrame(cm)\n",
    "\n",
    "pivot = df.pivot_table()\n",
    "df"
   ]
  },
  {
   "cell_type": "code",
   "execution_count": 20,
   "id": "b41dc604-0335-4c0d-8a76-e6d9fc4f8d93",
   "metadata": {},
   "outputs": [],
   "source": [
    "# define the value\n",
    "TP = 100 \n",
    "TN =  50\n",
    "FP =  10\n",
    "FN =  5\n",
    "Total = TP + TN + FP + FN"
   ]
  },
  {
   "cell_type": "code",
   "execution_count": 4,
   "id": "52222968-2c88-4153-b0e9-dd5b05250a7b",
   "metadata": {},
   "outputs": [
    {
     "data": {
      "text/plain": [
       "0.9090909090909091"
      ]
     },
     "execution_count": 4,
     "metadata": {},
     "output_type": "execute_result"
    }
   ],
   "source": [
    "Accuracy = (TP + TN)/(Total)\n",
    "Accuracy"
   ]
  },
  {
   "cell_type": "code",
   "execution_count": 5,
   "id": "9660391a-0b02-49df-ba99-38163ab4cb05",
   "metadata": {},
   "outputs": [
    {
     "data": {
      "text/plain": [
       "0.09090909090909091"
      ]
     },
     "execution_count": 5,
     "metadata": {},
     "output_type": "execute_result"
    }
   ],
   "source": [
    "Misclassification_Rate = (FP + FN)/Total \n",
    "Misclassification_Rate"
   ]
  },
  {
   "cell_type": "code",
   "execution_count": 9,
   "id": "161b95bb-5131-4e90-94dd-7a5f93a00635",
   "metadata": {},
   "outputs": [
    {
     "data": {
      "text/plain": [
       "0.9523809523809523"
      ]
     },
     "execution_count": 9,
     "metadata": {},
     "output_type": "execute_result"
    }
   ],
   "source": [
    "True_Positive_Rate = TP/(TP + FN)\n",
    "True_Positive_Rate"
   ]
  },
  {
   "cell_type": "code",
   "execution_count": 11,
   "id": "a32553af-526e-4a17-82f0-29a1a5d73dfd",
   "metadata": {},
   "outputs": [
    {
     "data": {
      "text/plain": [
       "0.16666666666666666"
      ]
     },
     "execution_count": 11,
     "metadata": {},
     "output_type": "execute_result"
    }
   ],
   "source": [
    "False_Positive_Rate = FP/(TN + FP)\n",
    "False_Positive_Rate"
   ]
  },
  {
   "cell_type": "code",
   "execution_count": 12,
   "id": "8a72dfb4-0649-41ca-83b5-858e526765ea",
   "metadata": {},
   "outputs": [
    {
     "data": {
      "text/plain": [
       "0.8333333333333334"
      ]
     },
     "execution_count": 12,
     "metadata": {},
     "output_type": "execute_result"
    }
   ],
   "source": [
    "True_Negative_Rate = TN/(TN+FP)\n",
    "True_Negative_Rate"
   ]
  },
  {
   "cell_type": "code",
   "execution_count": 13,
   "id": "ce6d58bc-319a-46c5-b749-b8876a0ac9ba",
   "metadata": {},
   "outputs": [
    {
     "data": {
      "text/plain": [
       "0.9090909090909091"
      ]
     },
     "execution_count": 13,
     "metadata": {},
     "output_type": "execute_result"
    }
   ],
   "source": [
    "Precision = TP/(TP + FP)\n",
    "Precision"
   ]
  },
  {
   "cell_type": "code",
   "execution_count": 21,
   "id": "dc03c6f2-987a-4828-8647-17cd77e691b4",
   "metadata": {},
   "outputs": [
    {
     "data": {
      "text/plain": [
       "0.6363636363636364"
      ]
     },
     "execution_count": 21,
     "metadata": {},
     "output_type": "execute_result"
    }
   ],
   "source": [
    "Prevalence = (TP + FN)/Total\n",
    "Prevalence"
   ]
  },
  {
   "cell_type": "code",
   "execution_count": null,
   "id": "2a8fcb57-43d1-46a4-8020-02589c9aaae0",
   "metadata": {},
   "outputs": [],
   "source": []
  }
 ],
 "metadata": {
  "kernelspec": {
   "display_name": "Python 3",
   "language": "python",
   "name": "python3"
  },
  "language_info": {
   "codemirror_mode": {
    "name": "ipython",
    "version": 3
   },
   "file_extension": ".py",
   "mimetype": "text/x-python",
   "name": "python",
   "nbconvert_exporter": "python",
   "pygments_lexer": "ipython3",
   "version": "3.8.10"
  }
 },
 "nbformat": 4,
 "nbformat_minor": 5
}
