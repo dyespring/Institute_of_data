{
 "cells": [
  {
   "cell_type": "code",
   "execution_count": 49,
   "id": "43a27b4d-d8cb-4db5-898c-e118341bcaae",
   "metadata": {},
   "outputs": [],
   "source": [
    "import pandas as pd\n",
    "import numpy as np\n",
    "import seaborn as sns\n",
    "from sklearn.metrics import precision_score\n",
    "from sklearn.metrics import classification_report,confusion_matrix\n",
    "actuals = ['cat','cat','cat','cat','dog','dog','dog','bird','bird']\n",
    "predictions = ['cat','cat','cat','cat','dog','dog','cat','dog','bird']"
   ]
  },
  {
   "cell_type": "code",
   "execution_count": 14,
   "id": "1a38c1f2-ebb3-48df-bfd3-f5fb82dee742",
   "metadata": {},
   "outputs": [
    {
     "data": {
      "text/html": [
       "<div>\n",
       "<style scoped>\n",
       "    .dataframe tbody tr th:only-of-type {\n",
       "        vertical-align: middle;\n",
       "    }\n",
       "\n",
       "    .dataframe tbody tr th {\n",
       "        vertical-align: top;\n",
       "    }\n",
       "\n",
       "    .dataframe thead th {\n",
       "        text-align: right;\n",
       "    }\n",
       "</style>\n",
       "<table border=\"1\" class=\"dataframe\">\n",
       "  <thead>\n",
       "    <tr style=\"text-align: right;\">\n",
       "      <th></th>\n",
       "      <th>Label</th>\n",
       "      <th>Predictions</th>\n",
       "    </tr>\n",
       "  </thead>\n",
       "  <tbody>\n",
       "    <tr>\n",
       "      <th>0</th>\n",
       "      <td>cat</td>\n",
       "      <td>cat</td>\n",
       "    </tr>\n",
       "    <tr>\n",
       "      <th>1</th>\n",
       "      <td>cat</td>\n",
       "      <td>cat</td>\n",
       "    </tr>\n",
       "    <tr>\n",
       "      <th>2</th>\n",
       "      <td>cat</td>\n",
       "      <td>cat</td>\n",
       "    </tr>\n",
       "    <tr>\n",
       "      <th>3</th>\n",
       "      <td>cat</td>\n",
       "      <td>cat</td>\n",
       "    </tr>\n",
       "    <tr>\n",
       "      <th>4</th>\n",
       "      <td>dog</td>\n",
       "      <td>dog</td>\n",
       "    </tr>\n",
       "    <tr>\n",
       "      <th>5</th>\n",
       "      <td>dog</td>\n",
       "      <td>dog</td>\n",
       "    </tr>\n",
       "    <tr>\n",
       "      <th>6</th>\n",
       "      <td>dog</td>\n",
       "      <td>cat</td>\n",
       "    </tr>\n",
       "    <tr>\n",
       "      <th>7</th>\n",
       "      <td>bird</td>\n",
       "      <td>dog</td>\n",
       "    </tr>\n",
       "    <tr>\n",
       "      <th>8</th>\n",
       "      <td>bird</td>\n",
       "      <td>bird</td>\n",
       "    </tr>\n",
       "  </tbody>\n",
       "</table>\n",
       "</div>"
      ],
      "text/plain": [
       "  Label Predictions\n",
       "0   cat         cat\n",
       "1   cat         cat\n",
       "2   cat         cat\n",
       "3   cat         cat\n",
       "4   dog         dog\n",
       "5   dog         dog\n",
       "6   dog         cat\n",
       "7  bird         dog\n",
       "8  bird        bird"
      ]
     },
     "execution_count": 14,
     "metadata": {},
     "output_type": "execute_result"
    }
   ],
   "source": [
    "df = pd.DataFrame()\n",
    "df['Label'] = actuals\n",
    "df['Predictions'] = predictions\n",
    "df"
   ]
  },
  {
   "cell_type": "code",
   "execution_count": 68,
   "id": "8badc93f-777a-4442-9783-8033ef4ab45d",
   "metadata": {},
   "outputs": [],
   "source": [
    "# Calculate with SKlearn metrics "
   ]
  },
  {
   "cell_type": "code",
   "execution_count": 11,
   "id": "3ba992af-3f7a-48d3-b90b-2bed54677bc5",
   "metadata": {},
   "outputs": [
    {
     "data": {
      "text/plain": [
       "0.8222222222222223"
      ]
     },
     "execution_count": 11,
     "metadata": {},
     "output_type": "execute_result"
    }
   ],
   "source": [
    "precision_score(actuals,predictions,average='macro')"
   ]
  },
  {
   "cell_type": "code",
   "execution_count": 12,
   "id": "88602ed4-ac5a-4021-a103-30a9b6c1d580",
   "metadata": {},
   "outputs": [
    {
     "data": {
      "text/plain": [
       "0.7777777777777778"
      ]
     },
     "execution_count": 12,
     "metadata": {},
     "output_type": "execute_result"
    }
   ],
   "source": [
    "precision_score(actuals,predictions,average='micro')"
   ]
  },
  {
   "cell_type": "code",
   "execution_count": 13,
   "id": "e59811f1-a3fd-4f2f-b069-3b061174d43b",
   "metadata": {},
   "outputs": [
    {
     "data": {
      "text/plain": [
       "0.8"
      ]
     },
     "execution_count": 13,
     "metadata": {},
     "output_type": "execute_result"
    }
   ],
   "source": [
    "precision_score(actuals,predictions,average='weighted')"
   ]
  },
  {
   "cell_type": "code",
   "execution_count": 53,
   "id": "8e712da6-9480-4043-976d-10a925ba5a97",
   "metadata": {},
   "outputs": [
    {
     "data": {
      "text/plain": [
       "<AxesSubplot:>"
      ]
     },
     "execution_count": 53,
     "metadata": {},
     "output_type": "execute_result"
    },
    {
     "data": {
      "image/png": "[encoded data removed]",
      "text/plain": [
       "<Figure size 432x288 with 2 Axes>"
      ]
     },
     "metadata": {
      "needs_background": "light"
     },
     "output_type": "display_data"
    }
   ],
   "source": [
    "sns.heatmap(confusion_matrix(np.array(actuals),np.array(predictions)),annot= True)"
   ]
  },
  {
   "cell_type": "code",
   "execution_count": 77,
   "id": "3d7c6925-356d-4bda-91bc-5b5bef18ea2e",
   "metadata": {},
   "outputs": [
    {
     "data": {
      "text/plain": [
       "1.0"
      ]
     },
     "execution_count": 77,
     "metadata": {},
     "output_type": "execute_result"
    }
   ],
   "source": [
    "# for bird class\n",
    "TP_bird = 1 \n",
    "FP_bird = 0\n",
    "FN_bird = 1\n",
    "\n",
    "Precision_bird = TP_bird/(TP_bird+FP_bird)\n",
    "Precision_bird"
   ]
  },
  {
   "cell_type": "code",
   "execution_count": 78,
   "id": "7217e61d-4072-4840-9b74-ba0ecb6ae3a1",
   "metadata": {},
   "outputs": [
    {
     "data": {
      "text/plain": [
       "0.8"
      ]
     },
     "execution_count": 78,
     "metadata": {},
     "output_type": "execute_result"
    }
   ],
   "source": [
    "# for cat class\n",
    "TP_cat = 4 \n",
    "FP_cat = 1\n",
    "FN_cat = 0\n",
    "\n",
    "Precision_cat = TP_cat/(TP_cat+FP_cat)\n",
    "Precision_cat"
   ]
  },
  {
   "cell_type": "code",
   "execution_count": 79,
   "id": "2b405d8d-4ead-4684-8ba5-f46c6a12b826",
   "metadata": {},
   "outputs": [
    {
     "data": {
      "text/plain": [
       "0.6666666666666666"
      ]
     },
     "execution_count": 79,
     "metadata": {},
     "output_type": "execute_result"
    }
   ],
   "source": [
    "# for dog class\n",
    "TP_dog = 2 \n",
    "FP_dog = 1\n",
    "FN_dog = 1\n",
    "\n",
    "Precision_dog = TP_dog/(TP_dog+FP_dog)\n",
    "Precision_dog"
   ]
  },
  {
   "cell_type": "code",
   "execution_count": 75,
   "id": "59eca47e-c536-46e3-a9f8-6e6688fce480",
   "metadata": {},
   "outputs": [
    {
     "name": "stdout",
     "output_type": "stream",
     "text": [
      "7\n",
      "2\n",
      "2\n"
     ]
    }
   ],
   "source": [
    "TP_total = TP_bird+TP_cat+TP_dog \n",
    "FP_total = FP_bird+FP_cat+FP_dog\n",
    "FN_total = FN_bird+FN_cat+FN_dog\n",
    "\n",
    "print(TP_total)\n",
    "print(FP_total)\n",
    "print(FN_total)"
   ]
  },
  {
   "cell_type": "code",
   "execution_count": 83,
   "id": "68d160ce-3137-44c9-8bca-d27857fc5e63",
   "metadata": {},
   "outputs": [],
   "source": [
    "# number of each class sample \n",
    "N_bird = 2\n",
    "N_cat = 4\n",
    "N_dog = 3 \n",
    "\n",
    "N_total = N_bird + N_cat + N_dog"
   ]
  },
  {
   "cell_type": "code",
   "execution_count": 76,
   "id": "e817f0ed-4b6b-49bd-b8f9-6e9fa244345e",
   "metadata": {},
   "outputs": [
    {
     "name": "stdout",
     "output_type": "stream",
     "text": [
      "Micro_averaged_Precision: 0.7777777777777778\n"
     ]
    }
   ],
   "source": [
    "Micro_averaged_Precision = TP_total/(TP_total+FP_total)\n",
    "print('Micro_averaged_Precision:',Micro_averaged_Precision)"
   ]
  },
  {
   "cell_type": "code",
   "execution_count": 81,
   "id": "fc9ceb40-d9fa-4551-a5a9-8deb098953f5",
   "metadata": {},
   "outputs": [
    {
     "name": "stdout",
     "output_type": "stream",
     "text": [
      "Macro_averaged_Precision: 0.8222222222222223\n"
     ]
    }
   ],
   "source": [
    "Macro_averaged_Precision = (Precision_bird+Precision_cat+Precision_dog)/3\n",
    "print('Macro_averaged_Precision:',Macro_averaged_Precision)"
   ]
  },
  {
   "cell_type": "code",
   "execution_count": 84,
   "id": "701d617b-0a62-4b5d-8418-37e5b379ec44",
   "metadata": {},
   "outputs": [
    {
     "name": "stdout",
     "output_type": "stream",
     "text": [
      "Weighted_averaged_Precision: 0.8\n"
     ]
    }
   ],
   "source": [
    "Weighted_averaged_Precision = (Precision_bird*N_bird+Precision_cat*N_cat+Precision_dog*N_dog)/N_total\n",
    "print('Weighted_averaged_Precision:',Weighted_averaged_Precision)"
   ]
  }
 ],
 "metadata": {
  "kernelspec": {
   "display_name": "Python 3",
   "language": "python",
   "name": "python3"
  },
  "language_info": {
   "codemirror_mode": {
    "name": "ipython",
    "version": 3
   },
   "file_extension": ".py",
   "mimetype": "text/x-python",
   "name": "python",
   "nbconvert_exporter": "python",
   "pygments_lexer": "ipython3",
   "version": "3.8.10"
  }
 },
 "nbformat": 4,
 "nbformat_minor": 5
}
